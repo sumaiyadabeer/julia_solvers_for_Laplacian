{
 "cells": [
  {
   "cell_type": "code",
   "execution_count": 51,
   "id": "e4463ef4",
   "metadata": {
    "ExecuteTime": {
     "end_time": "2018-08-26T15:50:46.631000-04:00",
     "start_time": "2018-08-26T19:50:45.167Z"
    }
   },
   "outputs": [
    {
     "data": {
      "text/plain": [
       "v\"1.6.7\""
      ]
     },
     "execution_count": 51,
     "metadata": {},
     "output_type": "execute_result"
    }
   ],
   "source": [
    "VERSION"
   ]
  },
  {
   "cell_type": "code",
   "execution_count": 52,
   "id": "93a00b13",
   "metadata": {
    "ExecuteTime": {
     "end_time": "2018-08-26T15:50:47.474000-04:00",
     "start_time": "2018-08-26T19:50:45.171Z"
    }
   },
   "outputs": [
    {
     "name": "stderr",
     "output_type": "stream",
     "text": [
      "\u001b[32m\u001b[1m  Activating\u001b[22m\u001b[39m new environment at `/Users/spielman/Lap7/Project.toml`\n"
     ]
    }
   ],
   "source": [
    "using Pkg\n",
    "Pkg.activate(\"/Users/spielman/Lap7/\")"
   ]
  },
  {
   "cell_type": "code",
   "execution_count": 4,
   "id": "cb8849e7",
   "metadata": {},
   "outputs": [],
   "source": [
    "# import Pkg; Pkg.add(\"PlotlyJS\")"
   ]
  },
  {
   "cell_type": "code",
   "execution_count": 5,
   "id": "181fe4cd",
   "metadata": {
    "ExecuteTime": {
     "end_time": "2018-08-26T15:50:54.258000-04:00",
     "start_time": "2018-08-26T19:50:45.174Z"
    }
   },
   "outputs": [],
   "source": [
    "# using PlotlyJS"
   ]
  },
  {
   "cell_type": "code",
   "execution_count": 53,
   "id": "268f7a0d",
   "metadata": {
    "ExecuteTime": {
     "end_time": "2018-08-26T15:50:56.813000-04:00",
     "start_time": "2018-08-26T19:50:45.177Z"
    }
   },
   "outputs": [],
   "source": [
    "using PyPlot\n",
    "using Plots\n",
    "using SparseArrays\n",
    "using Random\n",
    "using LinearAlgebra\n",
    "using Statistics\n",
    "using Arpack\n",
    "using SparseArrays\n",
    "using Laplacians"
   ]
  },
  {
   "cell_type": "code",
   "execution_count": 54,
   "id": "5b836fa8",
   "metadata": {},
   "outputs": [],
   "source": [
    "using DelimitedFiles\n",
    "ijv = readdlm(\"/home/sumaiya/Desktop/Datasets/wiki_oc/wikipedia_link_oc_ijv\")\n",
    "# seperate i and j\n",
    "ijv = convert(Matrix{Int64}, ijv);"
   ]
  },
  {
   "cell_type": "code",
   "execution_count": 55,
   "id": "d1a7a7f5",
   "metadata": {},
   "outputs": [],
   "source": [
    "\n",
    "i = ijv[:,1]\n",
    "j = ijv[:,2]\n",
    "\n",
    "n = i[1]\n",
    "e = j[1]\n",
    "\n",
    "i = i[2:e+1]\n",
    "j = j[2:e+1]\n",
    "\n",
    "\n",
    "loops = Vector{UInt64}()\n",
    "for index in (length(i))\n",
    "   if i[index] == j[index]\n",
    "        append!(loops, index)\n",
    "   end\n",
    "end\n",
    "\n",
    "i = [i; j]\n",
    "j = [j; i[1:e]]\n",
    "\n",
    "\n",
    "\n",
    "v = ones(2e,1)\n",
    "v = v[:,1]\n",
    "# v = convert(Vector{Int64}, v)\n",
    "a = sparse(i,j,v)\n",
    "for index in loops\n",
    "    a[index, index] = 0\n",
    "end\n",
    "a = sparse(a);\n",
    "#match no of non zero enteries with row_ptr[n+1] in csr_conversion\n",
    "# print(a)"
   ]
  },
  {
   "cell_type": "code",
   "execution_count": 56,
   "id": "2267ebb9",
   "metadata": {},
   "outputs": [
    {
     "data": {
      "text/plain": [
       "96201×96201 SparseMatrixCSC{Float64, Int64} with 29369457 stored entries:\n",
       "⣿⣿⣿⣿⣿⣿⣿⣿⣟⣻⣿⣻⢿⣿⣻⣿⣿⣿⣿⣿⣿⢻⣿⣿⣿⣿⣻⣿⣿⣿⣿⡏⣿⣿⣿⣿⣿⣿⣿⣿\n",
       "⣿⣿⣿⣿⣿⣿⣿⣿⣿⣿⣿⣿⣿⣿⣿⣿⣿⣿⣿⣿⣿⣿⣿⣿⣿⣿⣿⣿⣿⣿⣿⡇⣿⣿⣿⣿⣿⣿⣿⣿\n",
       "⣿⣿⣿⣿⣿⣿⣿⣿⣿⣿⣿⣿⣿⣿⣿⣿⣿⣿⣿⣿⣿⣿⣿⣿⣿⣿⣿⣿⣿⣿⣿⡗⣿⣿⣿⣿⣿⣿⣿⣿\n",
       "⣿⣿⣿⣿⣿⣿⣿⣿⣿⣿⣿⣿⣿⣿⣿⣿⣿⣿⣿⣿⣿⣿⣿⣿⣿⣿⣿⣿⣿⣿⣿⡇⣿⣿⣿⣿⣿⣿⣿⣿\n",
       "⣿⣹⣿⣿⣿⣿⣿⣿⣿⣿⣿⣾⣿⣿⣿⣿⣿⣿⣿⣻⣿⣹⣟⣿⣿⣻⢽⣿⣿⣿⣿⡇⣿⣿⣿⣿⣿⣿⣿⣿\n",
       "⣿⣻⣿⣿⣿⣿⣿⣿⣻⣿⣿⣿⣿⣿⣿⣿⣿⣿⣿⢻⣿⢹⣿⣿⣿⣻⣾⣿⣿⣿⣿⡇⣿⣿⣿⣿⣿⣿⣿⣿\n",
       "⣿⣷⣿⣿⣿⣿⣿⣿⣿⣿⣿⣿⣿⣿⣿⣿⣿⣿⣿⣿⣿⣿⣿⣿⣿⣿⢾⣿⣿⣿⣿⡇⣿⣿⣿⣿⣿⣿⣿⣿\n",
       "⣿⣾⣿⣿⣿⣿⣿⣿⣿⣿⣿⣿⣿⣿⣿⣿⣿⣿⣿⣿⣯⣿⣿⣿⣿⣿⣹⣿⣿⣿⣿⡇⣿⣿⣿⣿⣿⣿⣿⣿\n",
       "⣿⣿⣿⣿⣿⣿⣿⣿⣿⣿⣿⣿⣿⣿⣿⣿⣿⣿⣿⣿⣿⣿⣿⣿⣿⣿⣿⣿⣿⣿⣿⡷⣿⣿⣿⣿⣿⣿⣿⣿\n",
       "⣿⣿⣿⣿⣿⣿⣿⣿⣿⣻⣿⣛⣿⣿⣿⣿⣿⣿⣿⣿⣿⣿⣿⣿⣿⣿⣿⣿⣿⣿⣿⡇⣿⣿⣿⣿⣿⣿⣿⣿\n",
       "⣿⣛⣿⣿⣿⣿⣿⣿⣟⣻⣟⣛⣿⣿⣯⣿⣿⣿⣿⣿⣿⣿⣿⣿⣿⣿⡿⣿⣿⣿⣿⡇⣿⣿⣿⣿⣿⣿⣿⣿\n",
       "⣿⣿⣿⣿⣿⣿⣿⣿⣿⣽⣿⣿⣿⣿⣿⣿⣿⣿⣿⣿⣿⣿⣿⣿⣿⣿⣿⣿⣿⣿⣿⡇⣿⣿⣿⣿⣿⣿⣿⣿\n",
       "⣿⣿⣿⣿⣿⣿⣿⣿⣿⣻⣿⣻⣿⣿⣿⣿⣿⣿⣿⣿⣿⣿⣿⣿⣿⣿⣿⣿⣿⣿⣿⡇⣿⣿⣿⣿⣿⣿⣿⣿\n",
       "⣿⣾⣿⣿⣿⣿⣿⣿⣷⣷⣾⣿⣾⣷⣷⣾⣿⣿⣿⣿⣿⣯⣿⣿⣿⣿⣿⣿⣿⣿⣿⡇⣿⣿⣿⣿⣿⣿⣿⣿\n",
       "⣿⣿⣿⣿⣿⣿⣿⣿⣿⣿⣿⣿⣿⣿⣿⣿⣿⣿⣿⣿⣿⣿⣿⣿⣿⣿⣿⣿⣿⣿⣿⣇⣿⣿⣿⣿⣿⣿⣿⣿\n",
       "⡿⠿⠿⠿⢿⠿⠿⠿⠿⠿⠿⠿⠿⠿⠿⠿⢿⡿⠿⠿⠿⠿⠿⠿⠿⠿⠿⠿⠿⢿⠿⢇⠿⠿⠿⠿⠿⠿⠿⠿\n",
       "⣿⣿⣿⣿⣿⣿⣿⣿⣿⣿⣿⣿⣿⣿⣿⣿⣿⣿⣿⣿⣿⣿⣿⣿⣿⣿⣿⣿⣿⣿⣿⡇⣿⣿⣿⣿⣿⣿⣿⣿\n",
       "⣿⣿⣿⣿⣿⣿⣿⣿⣿⣿⣿⣿⣿⣿⣿⣿⣿⣿⣿⣿⣿⣿⣿⣿⣿⣿⣿⣿⣿⣿⣿⡇⣿⣿⣿⣿⣿⣿⣿⣿\n",
       "⣿⣿⣿⣿⣿⣿⣿⣿⣿⣿⣿⣿⣿⣿⣿⣿⣿⣿⣿⣿⣿⣿⣿⣿⣿⣿⣿⣿⣿⣿⣿⡇⣿⣿⣿⣿⣿⣿⣿⣿\n",
       "⣿⣿⣿⣿⣿⣿⣿⣿⣿⣿⣿⣿⣿⣿⣿⣿⣿⣿⣿⣿⣿⣿⣿⣿⣿⣿⣿⣿⣿⣿⣿⡇⣿⣿⣿⣿⣿⣿⣿⣿"
      ]
     },
     "execution_count": 56,
     "metadata": {},
     "output_type": "execute_result"
    }
   ],
   "source": [
    "la = lap(a)"
   ]
  },
  {
   "cell_type": "markdown",
   "id": "283703e8",
   "metadata": {},
   "source": [
    "# checking the degree of graph\n",
    "## and creating the b"
   ]
  },
  {
   "cell_type": "code",
   "execution_count": 57,
   "id": "2716081f",
   "metadata": {},
   "outputs": [],
   "source": [
    "# degree_to_save = diag(la) # to save actual degree dist\n",
    "degree_to_save = collect(la[:,4705])  #to save the degree of ith vertex\n",
    "FileIOStream =  open(\"/home/sumaiya/Desktop/Datasets/wiki_oc/degree_4705.txt\",\"w\")\n",
    "writedlm(FileIOStream, transpose(degree_to_save), \"    \")\n",
    "close(FileIOStream)\n",
    "\n",
    "# print((degree_to_save))"
   ]
  },
  {
   "cell_type": "code",
   "execution_count": 20,
   "id": "4e9a7ee0",
   "metadata": {},
   "outputs": [
    {
     "data": {
      "text/plain": [
       "81238.0"
      ]
     },
     "execution_count": 20,
     "metadata": {},
     "output_type": "execute_result"
    }
   ],
   "source": [
    "sum_degree = 0\n",
    "max_degree = 0\n",
    "max_degree_index = -1\n",
    "\n",
    "\n",
    "degree_list = Vector{UInt64}()\n",
    "\n",
    "for i in 1:n\n",
    "    sum_degree = sum_degree + la[i,i]\n",
    "    append!(degree_list, la[i,i])\n",
    "\n",
    "    if la[i,i] > max_degree\n",
    "        max_degree = la[i,i]\n",
    "        max_degree_index = i\n",
    "    end\n",
    "\n",
    "end\n",
    "\n",
    "max_degree\n"
   ]
  },
  {
   "cell_type": "code",
   "execution_count": 27,
   "id": "e708cd1b",
   "metadata": {},
   "outputs": [
    {
     "name": "stdout",
     "output_type": "stream",
     "text": [
      "346\n"
     ]
    }
   ],
   "source": [
    "# size(degree_list)\n",
    "println.(degree_list_sorted[48160])"
   ]
  },
  {
   "cell_type": "code",
   "execution_count": 39,
   "id": "5221952d",
   "metadata": {},
   "outputs": [
    {
     "name": "stdout",
     "output_type": "stream",
     "text": [
      "search: \u001b[0m\u001b[1mh\u001b[22m\u001b[0m\u001b[1mi\u001b[22m\u001b[0m\u001b[1ms\u001b[22m\u001b[0m\u001b[1mt\u001b[22m\u001b[0m\u001b[1mo\u001b[22m\u001b[0m\u001b[1mg\u001b[22m\u001b[0m\u001b[1mr\u001b[22m\u001b[0m\u001b[1ma\u001b[22m\u001b[0m\u001b[1mm\u001b[22m \u001b[0m\u001b[1mh\u001b[22m\u001b[0m\u001b[1mi\u001b[22m\u001b[0m\u001b[1ms\u001b[22m\u001b[0m\u001b[1mt\u001b[22m\u001b[0m\u001b[1mo\u001b[22m\u001b[0m\u001b[1mg\u001b[22m\u001b[0m\u001b[1mr\u001b[22m\u001b[0m\u001b[1ma\u001b[22m\u001b[0m\u001b[1mm\u001b[22m! \u001b[0m\u001b[1mh\u001b[22m\u001b[0m\u001b[1mi\u001b[22m\u001b[0m\u001b[1ms\u001b[22m\u001b[0m\u001b[1mt\u001b[22m\u001b[0m\u001b[1mo\u001b[22m\u001b[0m\u001b[1mg\u001b[22m\u001b[0m\u001b[1mr\u001b[22m\u001b[0m\u001b[1ma\u001b[22m\u001b[0m\u001b[1mm\u001b[22m2d \u001b[0m\u001b[1mh\u001b[22m\u001b[0m\u001b[1mi\u001b[22m\u001b[0m\u001b[1ms\u001b[22m\u001b[0m\u001b[1mt\u001b[22m\u001b[0m\u001b[1mo\u001b[22m\u001b[0m\u001b[1mg\u001b[22m\u001b[0m\u001b[1mr\u001b[22m\u001b[0m\u001b[1ma\u001b[22m\u001b[0m\u001b[1mm\u001b[22m2d!\n",
      "\n"
     ]
    },
    {
     "data": {
      "text/latex": [
       "\\begin{verbatim}\n",
       "histogram(x)\n",
       "histogram!(x)\n",
       "\\end{verbatim}\n",
       "Plot a histogram.\n",
       "\n",
       "\\section{Arguments}\n",
       "\\begin{itemize}\n",
       "\\item \\texttt{x}: AbstractVector of values to be binned\n",
       "\n",
       "\n",
       "\\item \\texttt{bins::Union\\{Integer, Symbol, Tuple\\{Integer, Integer\\},          AbstractVector\\{T\\} where T\\}}: Default is :auto (the Freedman-Diaconis          rule). For histogram-types, defines the approximate          number of bins to aim for, or the auto-binning algorithm          to use (:sturges, :sqrt, :rice, :scott or :fd). For          fine-grained control pass a Vector of break values, e.g.          \\texttt{range(minimum(x), stop = maximum(x), length = 25)}. Aliases: (:bin,          :nb, :nbin, :nbins).\n",
       "\n",
       "\n",
       "\\item \\texttt{weights}: Vector of weights for the values in \\texttt{x}, for weighted bin counts\n",
       "\n",
       "\n",
       "\\item \\texttt{normalize::Union\\{Bool, Symbol\\}}: Histogram normalization               mode. Possible values are: false/:none (no               normalization, default), true/:pdf (normalize to a discrete               PDF, where the total area of the bins is 1),               :probability (bin heights sum to 1) and :density (the area               of each bin, rather than the height, is equal to               the counts - useful for uneven bin sizes).               Aliases: (:norm, :normalized, :normalizes, :normed).\n",
       "\n",
       "\n",
       "\\item \\texttt{bar\\_position::Symbol}: Choose from \\texttt{:overlay} (default),                  \\texttt{:stack}. (warning: may only be partially                  implemented). Aliases: (:bar\\_positions, :barpositions).\n",
       "\n",
       "\n",
       "\\item \\texttt{bar\\_width::Real}:  Width of bars in data coordinates. When               \\texttt{nothing}, chooses based on \\texttt{x} (or \\texttt{y} when               \\texttt{orientation = :h}). Aliases: (:bar\\_widths, :barwidths).\n",
       "\n",
       "\n",
       "\\item \\texttt{bar\\_edges::Bool}: Align bars to edges (true), or centers               (the default) ?.\n",
       "\n",
       "\n",
       "\\item \\texttt{permute::Tuple\\{Symbol, Symbol\\}}: Permutes data and axis             properties of the axes given in the tuple, e.g. (:x, :y).             Aliases: (:permutes,).\n",
       "\n",
       "\\end{itemize}\n",
       "\\section{Example}\n",
       "\\begin{verbatim}\n",
       "julia> histogram([1,2,1,1,4,3,8],bins=0:8)\n",
       "julia> histogram([1,2,1,1,4,3,8],bins=0:8,weights=weights([4,7,3,9,12,2,6]))\n",
       "\\end{verbatim}\n"
      ],
      "text/markdown": [
       "```\n",
       "histogram(x)\n",
       "histogram!(x)\n",
       "```\n",
       "\n",
       "Plot a histogram.\n",
       "\n",
       "# Arguments\n",
       "\n",
       "  * `x`: AbstractVector of values to be binned\n",
       "  * `bins::Union{Integer, Symbol, Tuple{Integer, Integer},          AbstractVector{T} where T}`: Default is :auto (the Freedman-Diaconis          rule). For histogram-types, defines the approximate          number of bins to aim for, or the auto-binning algorithm          to use (:sturges, :sqrt, :rice, :scott or :fd). For          fine-grained control pass a Vector of break values, e.g.          `range(minimum(x), stop = maximum(x), length = 25)`. Aliases: (:bin,          :nb, :nbin, :nbins).\n",
       "  * `weights`: Vector of weights for the values in `x`, for weighted bin counts\n",
       "  * `normalize::Union{Bool, Symbol}`: Histogram normalization               mode. Possible values are: false/:none (no               normalization, default), true/:pdf (normalize to a discrete               PDF, where the total area of the bins is 1),               :probability (bin heights sum to 1) and :density (the area               of each bin, rather than the height, is equal to               the counts - useful for uneven bin sizes).               Aliases: (:norm, :normalized, :normalizes, :normed).\n",
       "  * `bar_position::Symbol`: Choose from `:overlay` (default),                  `:stack`. (warning: may only be partially                  implemented). Aliases: (:bar_positions, :barpositions).\n",
       "  * `bar_width::Real`:  Width of bars in data coordinates. When               `nothing`, chooses based on `x` (or `y` when               `orientation = :h`). Aliases: (:bar_widths, :barwidths).\n",
       "  * `bar_edges::Bool`: Align bars to edges (true), or centers               (the default) ?.\n",
       "  * `permute::Tuple{Symbol, Symbol}`: Permutes data and axis             properties of the axes given in the tuple, e.g. (:x, :y).             Aliases: (:permutes,).\n",
       "\n",
       "# Example\n",
       "\n",
       "```julia-repl\n",
       "julia> histogram([1,2,1,1,4,3,8],bins=0:8)\n",
       "julia> histogram([1,2,1,1,4,3,8],bins=0:8,weights=weights([4,7,3,9,12,2,6]))\n",
       "```\n"
      ],
      "text/plain": [
       "\u001b[36m  histogram(x)\u001b[39m\n",
       "\u001b[36m  histogram!(x)\u001b[39m\n",
       "\n",
       "  Plot a histogram.\n",
       "\n",
       "\u001b[1m  Arguments\u001b[22m\n",
       "\u001b[1m  ≡≡≡≡≡≡≡≡≡≡≡\u001b[22m\n",
       "\n",
       "    •  \u001b[36mx\u001b[39m: AbstractVector of values to be binned\n",
       "\n",
       "    •  \u001b[36mbins::Union{Integer, Symbol, Tuple{Integer, Integer},\n",
       "       AbstractVector{T} where T}\u001b[39m: Default is :auto (the\n",
       "       Freedman-Diaconis rule). For histogram-types, defines the\n",
       "       approximate number of bins to aim for, or the auto-binning\n",
       "       algorithm to use (:sturges, :sqrt, :rice, :scott or :fd). For\n",
       "       fine-grained control pass a Vector of break values, e.g.\n",
       "       \u001b[36mrange(minimum(x), stop = maximum(x), length = 25)\u001b[39m. Aliases: (:bin,\n",
       "       :nb, :nbin, :nbins).\n",
       "\n",
       "    •  \u001b[36mweights\u001b[39m: Vector of weights for the values in \u001b[36mx\u001b[39m, for weighted bin\n",
       "       counts\n",
       "\n",
       "    •  \u001b[36mnormalize::Union{Bool, Symbol}\u001b[39m: Histogram normalization mode.\n",
       "       Possible values are: false/:none (no normalization, default),\n",
       "       true/:pdf (normalize to a discrete PDF, where the total area of\n",
       "       the bins is 1), :probability (bin heights sum to 1) and :density\n",
       "       (the area of each bin, rather than the height, is equal to the\n",
       "       counts - useful for uneven bin sizes). Aliases: (:norm,\n",
       "       :normalized, :normalizes, :normed).\n",
       "\n",
       "    •  \u001b[36mbar_position::Symbol\u001b[39m: Choose from \u001b[36m:overlay\u001b[39m (default), \u001b[36m:stack\u001b[39m.\n",
       "       (warning: may only be partially implemented). Aliases:\n",
       "       (:bar_positions, :barpositions).\n",
       "\n",
       "    •  \u001b[36mbar_width::Real\u001b[39m: Width of bars in data coordinates. When \u001b[36mnothing\u001b[39m,\n",
       "       chooses based on \u001b[36mx\u001b[39m (or \u001b[36my\u001b[39m when \u001b[36morientation = :h\u001b[39m). Aliases:\n",
       "       (:bar_widths, :barwidths).\n",
       "\n",
       "    •  \u001b[36mbar_edges::Bool\u001b[39m: Align bars to edges (true), or centers (the\n",
       "       default) ?.\n",
       "\n",
       "    •  \u001b[36mpermute::Tuple{Symbol, Symbol}\u001b[39m: Permutes data and axis properties\n",
       "       of the axes given in the tuple, e.g. (:x, :y). Aliases:\n",
       "       (:permutes,).\n",
       "\n",
       "\u001b[1m  Example\u001b[22m\n",
       "\u001b[1m  ≡≡≡≡≡≡≡≡≡\u001b[22m\n",
       "\n",
       "\u001b[36m  julia> histogram([1,2,1,1,4,3,8],bins=0:8)\u001b[39m\n",
       "\u001b[36m  julia> histogram([1,2,1,1,4,3,8],bins=0:8,weights=weights([4,7,3,9,12,2,6]))\u001b[39m"
      ]
     },
     "execution_count": 39,
     "metadata": {},
     "output_type": "execute_result"
    }
   ],
   "source": [
    "?histogram"
   ]
  },
  {
   "cell_type": "code",
   "execution_count": 74,
   "id": "07702ad5",
   "metadata": {},
   "outputs": [
    {
     "data": {
      "image/svg+xml": "<?xml version=\"1.0\" encoding=\"utf-8\"?>\n<svg xmlns=\"http://www.w3.org/2000/svg\" xmlns:xlink=\"http://www.w3.org/1999/xlink\" width=\"600\" height=\"400\" viewBox=\"0 0 2400 1600\">\n<defs>\n  <clipPath id=\"clip800\">\n    <rect x=\"0\" y=\"0\" width=\"2400\" height=\"1600\"/>\n  </clipPath>\n</defs>\n<path clip-path=\"url(#clip800)\" d=\"M0 1600 L2400 1600 L2400 0 L0 0  Z\" fill=\"#ffffff\" fill-rule=\"evenodd\" fill-opacity=\"1\"/>\n<defs>\n  <clipPath id=\"clip801\">\n    <rect x=\"480\" y=\"0\" width=\"1681\" height=\"1600\"/>\n  </clipPath>\n</defs>\n<path clip-path=\"url(#clip800)\" d=\"M221.637 1410.9 L2352.76 1410.9 L2352.76 123.472 L221.637 123.472  Z\" fill=\"#ffffff\" fill-rule=\"evenodd\" fill-opacity=\"1\"/>\n<defs>\n  <clipPath id=\"clip802\">\n    <rect x=\"221\" y=\"123\" width=\"2132\" height=\"1288\"/>\n  </clipPath>\n</defs>\n<polyline clip-path=\"url(#clip802)\" style=\"stroke:#000000; stroke-linecap:round; stroke-linejoin:round; stroke-width:2; stroke-opacity:0.1; fill:none\" points=\"221.637,1410.9 221.637,123.472 \"/>\n<polyline clip-path=\"url(#clip802)\" style=\"stroke:#000000; stroke-linecap:round; stroke-linejoin:round; stroke-width:2; stroke-opacity:0.1; fill:none\" points=\"647.861,1410.9 647.861,123.472 \"/>\n<polyline clip-path=\"url(#clip802)\" style=\"stroke:#000000; stroke-linecap:round; stroke-linejoin:round; stroke-width:2; stroke-opacity:0.1; fill:none\" points=\"1074.08,1410.9 1074.08,123.472 \"/>\n<polyline clip-path=\"url(#clip802)\" style=\"stroke:#000000; stroke-linecap:round; stroke-linejoin:round; stroke-width:2; stroke-opacity:0.1; fill:none\" points=\"1500.31,1410.9 1500.31,123.472 \"/>\n<polyline clip-path=\"url(#clip802)\" style=\"stroke:#000000; stroke-linecap:round; stroke-linejoin:round; stroke-width:2; stroke-opacity:0.1; fill:none\" points=\"1926.53,1410.9 1926.53,123.472 \"/>\n<polyline clip-path=\"url(#clip802)\" style=\"stroke:#000000; stroke-linecap:round; stroke-linejoin:round; stroke-width:2; stroke-opacity:0.1; fill:none\" points=\"2352.76,1410.9 2352.76,123.472 \"/>\n<polyline clip-path=\"url(#clip800)\" style=\"stroke:#000000; stroke-linecap:round; stroke-linejoin:round; stroke-width:4; stroke-opacity:1; fill:none\" points=\"221.637,1410.9 2352.76,1410.9 \"/>\n<polyline clip-path=\"url(#clip800)\" style=\"stroke:#000000; stroke-linecap:round; stroke-linejoin:round; stroke-width:4; stroke-opacity:1; fill:none\" points=\"221.637,1410.9 221.637,1392 \"/>\n<polyline clip-path=\"url(#clip800)\" style=\"stroke:#000000; stroke-linecap:round; stroke-linejoin:round; stroke-width:4; stroke-opacity:1; fill:none\" points=\"647.861,1410.9 647.861,1392 \"/>\n<polyline clip-path=\"url(#clip800)\" style=\"stroke:#000000; stroke-linecap:round; stroke-linejoin:round; stroke-width:4; stroke-opacity:1; fill:none\" points=\"1074.08,1410.9 1074.08,1392 \"/>\n<polyline clip-path=\"url(#clip800)\" style=\"stroke:#000000; stroke-linecap:round; stroke-linejoin:round; stroke-width:4; stroke-opacity:1; fill:none\" points=\"1500.31,1410.9 1500.31,1392 \"/>\n<polyline clip-path=\"url(#clip800)\" style=\"stroke:#000000; stroke-linecap:round; stroke-linejoin:round; stroke-width:4; stroke-opacity:1; fill:none\" points=\"1926.53,1410.9 1926.53,1392 \"/>\n<polyline clip-path=\"url(#clip800)\" style=\"stroke:#000000; stroke-linecap:round; stroke-linejoin:round; stroke-width:4; stroke-opacity:1; fill:none\" points=\"2352.76,1410.9 2352.76,1392 \"/>\n<path clip-path=\"url(#clip800)\" d=\"M186.62 1485.02 L194.259 1485.02 L194.259 1458.66 L185.949 1460.32 L185.949 1456.06 L194.212 1454.4 L198.888 1454.4 L198.888 1485.02 L206.527 1485.02 L206.527 1488.96 L186.62 1488.96 L186.62 1485.02 Z\" fill=\"#000000\" fill-rule=\"nonzero\" fill-opacity=\"1\" /><path clip-path=\"url(#clip800)\" d=\"M225.972 1457.48 Q222.36 1457.48 220.532 1461.04 Q218.726 1464.58 218.726 1471.71 Q218.726 1478.82 220.532 1482.38 Q222.36 1485.92 225.972 1485.92 Q229.606 1485.92 231.411 1482.38 Q233.24 1478.82 233.24 1471.71 Q233.24 1464.58 231.411 1461.04 Q229.606 1457.48 225.972 1457.48 M225.972 1453.77 Q231.782 1453.77 234.837 1458.38 Q237.916 1462.96 237.916 1471.71 Q237.916 1480.44 234.837 1485.04 Q231.782 1489.63 225.972 1489.63 Q220.161 1489.63 217.083 1485.04 Q214.027 1480.44 214.027 1471.71 Q214.027 1462.96 217.083 1458.38 Q220.161 1453.77 225.972 1453.77 Z\" fill=\"#000000\" fill-rule=\"nonzero\" fill-opacity=\"1\" /><path clip-path=\"url(#clip800)\" d=\"M247.621 1435.97 Q244.687 1435.97 243.201 1438.86 Q241.734 1441.74 241.734 1447.53 Q241.734 1453.31 243.201 1456.2 Q244.687 1459.08 247.621 1459.08 Q250.574 1459.08 252.041 1456.2 Q253.526 1453.31 253.526 1447.53 Q253.526 1441.74 252.041 1438.86 Q250.574 1435.97 247.621 1435.97 M247.621 1432.96 Q252.341 1432.96 254.824 1436.7 Q257.326 1440.43 257.326 1447.53 Q257.326 1454.62 254.824 1458.37 Q252.341 1462.09 247.621 1462.09 Q242.9 1462.09 240.399 1458.37 Q237.916 1454.62 237.916 1447.53 Q237.916 1440.43 240.399 1436.7 Q242.9 1432.96 247.621 1432.96 Z\" fill=\"#000000\" fill-rule=\"nonzero\" fill-opacity=\"1\" /><path clip-path=\"url(#clip800)\" d=\"M614.188 1485.02 L621.827 1485.02 L621.827 1458.66 L613.517 1460.32 L613.517 1456.06 L621.781 1454.4 L626.457 1454.4 L626.457 1485.02 L634.096 1485.02 L634.096 1488.96 L614.188 1488.96 L614.188 1485.02 Z\" fill=\"#000000\" fill-rule=\"nonzero\" fill-opacity=\"1\" /><path clip-path=\"url(#clip800)\" d=\"M653.54 1457.48 Q649.929 1457.48 648.1 1461.04 Q646.295 1464.58 646.295 1471.71 Q646.295 1478.82 648.1 1482.38 Q649.929 1485.92 653.54 1485.92 Q657.174 1485.92 658.98 1482.38 Q660.809 1478.82 660.809 1471.71 Q660.809 1464.58 658.98 1461.04 Q657.174 1457.48 653.54 1457.48 M653.54 1453.77 Q659.35 1453.77 662.406 1458.38 Q665.484 1462.96 665.484 1471.71 Q665.484 1480.44 662.406 1485.04 Q659.35 1489.63 653.54 1489.63 Q647.73 1489.63 644.651 1485.04 Q641.596 1480.44 641.596 1471.71 Q641.596 1462.96 644.651 1458.38 Q647.73 1453.77 653.54 1453.77 Z\" fill=\"#000000\" fill-rule=\"nonzero\" fill-opacity=\"1\" /><path clip-path=\"url(#clip800)\" d=\"M666.03 1458.35 L672.236 1458.35 L672.236 1436.93 L665.484 1438.28 L665.484 1434.82 L672.199 1433.47 L675.998 1433.47 L675.998 1458.35 L682.205 1458.35 L682.205 1461.55 L666.03 1461.55 L666.03 1458.35 Z\" fill=\"#000000\" fill-rule=\"nonzero\" fill-opacity=\"1\" /><path clip-path=\"url(#clip800)\" d=\"M1039.86 1485.02 L1047.5 1485.02 L1047.5 1458.66 L1039.19 1460.32 L1039.19 1456.06 L1047.45 1454.4 L1052.13 1454.4 L1052.13 1485.02 L1059.76 1485.02 L1059.76 1488.96 L1039.86 1488.96 L1039.86 1485.02 Z\" fill=\"#000000\" fill-rule=\"nonzero\" fill-opacity=\"1\" /><path clip-path=\"url(#clip800)\" d=\"M1079.21 1457.48 Q1075.6 1457.48 1073.77 1461.04 Q1071.96 1464.58 1071.96 1471.71 Q1071.96 1478.82 1073.77 1482.38 Q1075.6 1485.92 1079.21 1485.92 Q1082.84 1485.92 1084.65 1482.38 Q1086.48 1478.82 1086.48 1471.71 Q1086.48 1464.58 1084.65 1461.04 Q1082.84 1457.48 1079.21 1457.48 M1079.21 1453.77 Q1085.02 1453.77 1088.07 1458.38 Q1091.15 1462.96 1091.15 1471.71 Q1091.15 1480.44 1088.07 1485.04 Q1085.02 1489.63 1079.21 1489.63 Q1073.4 1489.63 1070.32 1485.04 Q1067.26 1480.44 1067.26 1471.71 Q1067.26 1462.96 1070.32 1458.38 Q1073.4 1453.77 1079.21 1453.77 Z\" fill=\"#000000\" fill-rule=\"nonzero\" fill-opacity=\"1\" /><path clip-path=\"url(#clip800)\" d=\"M1095.72 1458.35 L1108.98 1458.35 L1108.98 1461.55 L1091.15 1461.55 L1091.15 1458.35 Q1093.32 1456.11 1097.04 1452.35 Q1100.78 1448.57 1101.74 1447.48 Q1103.57 1445.43 1104.28 1444.02 Q1105.01 1442.59 1105.01 1441.22 Q1105.01 1438.98 1103.43 1437.57 Q1101.87 1436.16 1099.35 1436.16 Q1097.57 1436.16 1095.57 1436.78 Q1093.6 1437.4 1091.34 1438.66 L1091.34 1434.82 Q1093.64 1433.9 1095.63 1433.43 Q1097.62 1432.96 1099.28 1432.96 Q1103.64 1432.96 1106.24 1435.14 Q1108.83 1437.32 1108.83 1440.97 Q1108.83 1442.7 1108.17 1444.26 Q1107.53 1445.8 1105.82 1447.91 Q1105.35 1448.46 1102.83 1451.07 Q1100.31 1453.67 1095.72 1458.35 Z\" fill=\"#000000\" fill-rule=\"nonzero\" fill-opacity=\"1\" /><path clip-path=\"url(#clip800)\" d=\"M1465.75 1485.02 L1473.39 1485.02 L1473.39 1458.66 L1465.08 1460.32 L1465.08 1456.06 L1473.34 1454.4 L1478.02 1454.4 L1478.02 1485.02 L1485.66 1485.02 L1485.66 1488.96 L1465.75 1488.96 L1465.75 1485.02 Z\" fill=\"#000000\" fill-rule=\"nonzero\" fill-opacity=\"1\" /><path clip-path=\"url(#clip800)\" d=\"M1505.1 1457.48 Q1501.49 1457.48 1499.66 1461.04 Q1497.86 1464.58 1497.86 1471.71 Q1497.86 1478.82 1499.66 1482.38 Q1501.49 1485.92 1505.1 1485.92 Q1508.74 1485.92 1510.54 1482.38 Q1512.37 1478.82 1512.37 1471.71 Q1512.37 1464.58 1510.54 1461.04 Q1508.74 1457.48 1505.1 1457.48 M1505.1 1453.77 Q1510.91 1453.77 1513.97 1458.38 Q1517.05 1462.96 1517.05 1471.71 Q1517.05 1480.44 1513.97 1485.04 Q1510.91 1489.63 1505.1 1489.63 Q1499.29 1489.63 1496.21 1485.04 Q1493.16 1480.44 1493.16 1471.71 Q1493.16 1462.96 1496.21 1458.38 Q1499.29 1453.77 1505.1 1453.77 Z\" fill=\"#000000\" fill-rule=\"nonzero\" fill-opacity=\"1\" /><path clip-path=\"url(#clip800)\" d=\"M1529.74 1446.41 Q1532.47 1446.99 1533.99 1448.83 Q1535.54 1450.68 1535.54 1453.38 Q1535.54 1457.54 1532.68 1459.82 Q1529.82 1462.09 1524.55 1462.09 Q1522.78 1462.09 1520.9 1461.73 Q1519.04 1461.4 1517.05 1460.7 L1517.05 1457.03 Q1518.63 1457.95 1520.51 1458.42 Q1522.39 1458.89 1524.44 1458.89 Q1528.01 1458.89 1529.87 1457.48 Q1531.76 1456.07 1531.76 1453.38 Q1531.76 1450.9 1530.01 1449.51 Q1528.28 1448.1 1525.17 1448.1 L1521.9 1448.1 L1521.9 1444.98 L1525.32 1444.98 Q1528.13 1444.98 1529.61 1443.87 Q1531.1 1442.74 1531.1 1440.63 Q1531.1 1438.47 1529.56 1437.32 Q1528.03 1436.16 1525.17 1436.16 Q1523.61 1436.16 1521.83 1436.49 Q1520.04 1436.83 1517.89 1437.55 L1517.89 1434.16 Q1520.06 1433.56 1521.94 1433.26 Q1523.84 1432.96 1525.51 1432.96 Q1529.84 1432.96 1532.36 1434.93 Q1534.88 1436.89 1534.88 1440.24 Q1534.88 1442.57 1533.54 1444.19 Q1532.21 1445.79 1529.74 1446.41 Z\" fill=\"#000000\" fill-rule=\"nonzero\" fill-opacity=\"1\" /><path clip-path=\"url(#clip800)\" d=\"M1890.99 1485.02 L1898.63 1485.02 L1898.63 1458.66 L1890.32 1460.32 L1890.32 1456.06 L1898.58 1454.4 L1903.26 1454.4 L1903.26 1485.02 L1910.9 1485.02 L1910.9 1488.96 L1890.99 1488.96 L1890.99 1485.02 Z\" fill=\"#000000\" fill-rule=\"nonzero\" fill-opacity=\"1\" /><path clip-path=\"url(#clip800)\" d=\"M1930.34 1457.48 Q1926.73 1457.48 1924.9 1461.04 Q1923.09 1464.58 1923.09 1471.71 Q1923.09 1478.82 1924.9 1482.38 Q1926.73 1485.92 1930.34 1485.92 Q1933.97 1485.92 1935.78 1482.38 Q1937.61 1478.82 1937.61 1471.71 Q1937.61 1464.58 1935.78 1461.04 Q1933.97 1457.48 1930.34 1457.48 M1930.34 1453.77 Q1936.15 1453.77 1939.21 1458.38 Q1942.28 1462.96 1942.28 1471.71 Q1942.28 1480.44 1939.21 1485.04 Q1936.15 1489.63 1930.34 1489.63 Q1924.53 1489.63 1921.45 1485.04 Q1918.4 1480.44 1918.4 1471.71 Q1918.4 1462.96 1921.45 1458.38 Q1924.53 1453.77 1930.34 1453.77 Z\" fill=\"#000000\" fill-rule=\"nonzero\" fill-opacity=\"1\" /><path clip-path=\"url(#clip800)\" d=\"M1954.96 1436.78 L1945.37 1451.77 L1954.96 1451.77 L1954.96 1436.78 M1953.96 1433.47 L1958.74 1433.47 L1958.74 1451.77 L1962.75 1451.77 L1962.75 1454.93 L1958.74 1454.93 L1958.74 1461.55 L1954.96 1461.55 L1954.96 1454.93 L1942.28 1454.93 L1942.28 1451.26 L1953.96 1433.47 Z\" fill=\"#000000\" fill-rule=\"nonzero\" fill-opacity=\"1\" /><path clip-path=\"url(#clip800)\" d=\"M2318.36 1485.02 L2326 1485.02 L2326 1458.66 L2317.69 1460.32 L2317.69 1456.06 L2325.95 1454.4 L2330.63 1454.4 L2330.63 1485.02 L2338.27 1485.02 L2338.27 1488.96 L2318.36 1488.96 L2318.36 1485.02 Z\" fill=\"#000000\" fill-rule=\"nonzero\" fill-opacity=\"1\" /><path clip-path=\"url(#clip800)\" d=\"M2357.71 1457.48 Q2354.1 1457.48 2352.27 1461.04 Q2350.47 1464.58 2350.47 1471.71 Q2350.47 1478.82 2352.27 1482.38 Q2354.1 1485.92 2357.71 1485.92 Q2361.35 1485.92 2363.15 1482.38 Q2364.98 1478.82 2364.98 1471.71 Q2364.98 1464.58 2363.15 1461.04 Q2361.35 1457.48 2357.71 1457.48 M2357.71 1453.77 Q2363.52 1453.77 2366.58 1458.38 Q2369.66 1462.96 2369.66 1471.71 Q2369.66 1480.44 2366.58 1485.04 Q2363.52 1489.63 2357.71 1489.63 Q2351.9 1489.63 2348.82 1485.04 Q2345.77 1480.44 2345.77 1471.71 Q2345.77 1462.96 2348.82 1458.38 Q2351.9 1453.77 2357.71 1453.77 Z\" fill=\"#000000\" fill-rule=\"nonzero\" fill-opacity=\"1\" /><path clip-path=\"url(#clip800)\" d=\"M2370.84 1433.47 L2385.75 1433.47 L2385.75 1436.66 L2374.32 1436.66 L2374.32 1443.55 Q2375.15 1443.27 2375.97 1443.13 Q2376.8 1442.98 2377.63 1442.98 Q2382.33 1442.98 2385.08 1445.56 Q2387.82 1448.14 2387.82 1452.54 Q2387.82 1457.07 2385 1459.59 Q2382.18 1462.09 2377.05 1462.09 Q2375.28 1462.09 2373.44 1461.79 Q2371.61 1461.49 2369.66 1460.89 L2369.66 1457.07 Q2371.35 1457.99 2373.15 1458.44 Q2374.96 1458.89 2376.97 1458.89 Q2380.23 1458.89 2382.12 1457.18 Q2384.02 1455.47 2384.02 1452.54 Q2384.02 1449.6 2382.12 1447.89 Q2380.23 1446.18 2376.97 1446.18 Q2375.45 1446.18 2373.92 1446.52 Q2372.42 1446.86 2370.84 1447.57 L2370.84 1433.47 Z\" fill=\"#000000\" fill-rule=\"nonzero\" fill-opacity=\"1\" /><path clip-path=\"url(#clip800)\" d=\"M1162.81 1531.95 L1162.81 1568.9 L1170.58 1568.9 Q1180.41 1568.9 1184.96 1564.45 Q1189.55 1559.99 1189.55 1550.38 Q1189.55 1540.83 1184.96 1536.4 Q1180.41 1531.95 1170.58 1531.95 L1162.81 1531.95 M1156.38 1526.67 L1169.59 1526.67 Q1183.4 1526.67 1189.86 1532.43 Q1196.33 1538.16 1196.33 1550.38 Q1196.33 1562.66 1189.83 1568.42 Q1183.34 1574.19 1169.59 1574.19 L1156.38 1574.19 L1156.38 1526.67 Z\" fill=\"#000000\" fill-rule=\"nonzero\" fill-opacity=\"1\" /><path clip-path=\"url(#clip800)\" d=\"M1236.81 1554.9 L1236.81 1557.76 L1209.88 1557.76 Q1210.27 1563.81 1213.51 1566.99 Q1216.79 1570.14 1222.62 1570.14 Q1225.99 1570.14 1229.14 1569.32 Q1232.32 1568.49 1235.44 1566.83 L1235.44 1572.37 Q1232.29 1573.71 1228.98 1574.41 Q1225.67 1575.11 1222.27 1575.11 Q1213.74 1575.11 1208.74 1570.14 Q1203.77 1565.18 1203.77 1556.71 Q1203.77 1547.96 1208.48 1542.83 Q1213.23 1537.68 1221.25 1537.68 Q1228.44 1537.68 1232.61 1542.33 Q1236.81 1546.94 1236.81 1554.9 M1230.96 1553.18 Q1230.89 1548.37 1228.25 1545.51 Q1225.64 1542.64 1221.31 1542.64 Q1216.41 1542.64 1213.45 1545.41 Q1210.52 1548.18 1210.08 1553.21 L1230.96 1553.18 Z\" fill=\"#000000\" fill-rule=\"nonzero\" fill-opacity=\"1\" /><path clip-path=\"url(#clip800)\" d=\"M1269.88 1555.95 Q1269.88 1549.58 1267.24 1546.08 Q1264.63 1542.58 1259.89 1542.58 Q1255.18 1542.58 1252.54 1546.08 Q1249.93 1549.58 1249.93 1555.95 Q1249.93 1562.28 1252.54 1565.78 Q1255.18 1569.28 1259.89 1569.28 Q1264.63 1569.28 1267.24 1565.78 Q1269.88 1562.28 1269.88 1555.95 M1275.74 1569.76 Q1275.74 1578.86 1271.7 1583.29 Q1267.65 1587.74 1259.31 1587.74 Q1256.23 1587.74 1253.49 1587.27 Q1250.75 1586.82 1248.17 1585.87 L1248.17 1580.17 Q1250.75 1581.57 1253.27 1582.24 Q1255.78 1582.91 1258.39 1582.91 Q1264.15 1582.91 1267.02 1579.88 Q1269.88 1576.89 1269.88 1570.81 L1269.88 1567.92 Q1268.07 1571.07 1265.23 1572.63 Q1262.4 1574.19 1258.46 1574.19 Q1251.9 1574.19 1247.89 1569.19 Q1243.88 1564.19 1243.88 1555.95 Q1243.88 1547.67 1247.89 1542.68 Q1251.9 1537.68 1258.46 1537.68 Q1262.4 1537.68 1265.23 1539.24 Q1268.07 1540.8 1269.88 1543.95 L1269.88 1538.54 L1275.74 1538.54 L1275.74 1569.76 Z\" fill=\"#000000\" fill-rule=\"nonzero\" fill-opacity=\"1\" /><path clip-path=\"url(#clip800)\" d=\"M1308.46 1544.01 Q1307.47 1543.44 1306.29 1543.18 Q1305.15 1542.9 1303.75 1542.9 Q1298.78 1542.9 1296.11 1546.14 Q1293.47 1549.36 1293.47 1555.41 L1293.47 1574.19 L1287.58 1574.19 L1287.58 1538.54 L1293.47 1538.54 L1293.47 1544.08 Q1295.31 1540.83 1298.27 1539.27 Q1301.23 1537.68 1305.47 1537.68 Q1306.07 1537.68 1306.8 1537.77 Q1307.53 1537.84 1308.43 1538 L1308.46 1544.01 Z\" fill=\"#000000\" fill-rule=\"nonzero\" fill-opacity=\"1\" /><path clip-path=\"url(#clip800)\" d=\"M1343.66 1554.9 L1343.66 1557.76 L1316.73 1557.76 Q1317.12 1563.81 1320.36 1566.99 Q1323.64 1570.14 1329.46 1570.14 Q1332.84 1570.14 1335.99 1569.32 Q1339.17 1568.49 1342.29 1566.83 L1342.29 1572.37 Q1339.14 1573.71 1335.83 1574.41 Q1332.52 1575.11 1329.11 1575.11 Q1320.58 1575.11 1315.59 1570.14 Q1310.62 1565.18 1310.62 1556.71 Q1310.62 1547.96 1315.33 1542.83 Q1320.08 1537.68 1328.1 1537.68 Q1335.29 1537.68 1339.46 1542.33 Q1343.66 1546.94 1343.66 1554.9 M1337.8 1553.18 Q1337.74 1548.37 1335.1 1545.51 Q1332.49 1542.64 1328.16 1542.64 Q1323.26 1542.64 1320.3 1545.41 Q1317.37 1548.18 1316.92 1553.21 L1337.8 1553.18 Z\" fill=\"#000000\" fill-rule=\"nonzero\" fill-opacity=\"1\" /><path clip-path=\"url(#clip800)\" d=\"M1383.76 1554.9 L1383.76 1557.76 L1356.84 1557.76 Q1357.22 1563.81 1360.47 1566.99 Q1363.74 1570.14 1369.57 1570.14 Q1372.94 1570.14 1376.09 1569.32 Q1379.28 1568.49 1382.4 1566.83 L1382.4 1572.37 Q1379.24 1573.71 1375.93 1574.41 Q1372.62 1575.11 1369.22 1575.11 Q1360.69 1575.11 1355.69 1570.14 Q1350.73 1565.18 1350.73 1556.71 Q1350.73 1547.96 1355.44 1542.83 Q1360.18 1537.68 1368.2 1537.68 Q1375.39 1537.68 1379.56 1542.33 Q1383.76 1546.94 1383.76 1554.9 M1377.91 1553.18 Q1377.84 1548.37 1375.2 1545.51 Q1372.59 1542.64 1368.26 1542.64 Q1363.36 1542.64 1360.4 1545.41 Q1357.47 1548.18 1357.03 1553.21 L1377.91 1553.18 Z\" fill=\"#000000\" fill-rule=\"nonzero\" fill-opacity=\"1\" /><path clip-path=\"url(#clip800)\" d=\"M1416.1 1539.59 L1416.1 1545.13 Q1413.62 1543.85 1410.95 1543.22 Q1408.27 1542.58 1405.41 1542.58 Q1401.05 1542.58 1398.85 1543.92 Q1396.69 1545.25 1396.69 1547.93 Q1396.69 1549.96 1398.25 1551.14 Q1399.81 1552.29 1404.52 1553.34 L1406.52 1553.78 Q1412.76 1555.12 1415.37 1557.57 Q1418.01 1559.99 1418.01 1564.35 Q1418.01 1569.32 1414.07 1572.21 Q1410.15 1575.11 1403.28 1575.11 Q1400.41 1575.11 1397.29 1574.54 Q1394.2 1573.99 1390.77 1572.88 L1390.77 1566.83 Q1394.01 1568.52 1397.16 1569.38 Q1400.32 1570.21 1403.4 1570.21 Q1407.54 1570.21 1409.77 1568.81 Q1412 1567.37 1412 1564.8 Q1412 1562.41 1410.37 1561.14 Q1408.78 1559.86 1403.34 1558.68 L1401.3 1558.21 Q1395.86 1557.06 1393.44 1554.71 Q1391.02 1552.32 1391.02 1548.18 Q1391.02 1543.15 1394.59 1540.42 Q1398.15 1537.68 1404.71 1537.68 Q1407.95 1537.68 1410.82 1538.16 Q1413.68 1538.63 1416.1 1539.59 Z\" fill=\"#000000\" fill-rule=\"nonzero\" fill-opacity=\"1\" /><polyline clip-path=\"url(#clip802)\" style=\"stroke:#000000; stroke-linecap:round; stroke-linejoin:round; stroke-width:2; stroke-opacity:0.1; fill:none\" points=\"221.637,1374.46 2352.76,1374.46 \"/>\n<polyline clip-path=\"url(#clip802)\" style=\"stroke:#000000; stroke-linecap:round; stroke-linejoin:round; stroke-width:2; stroke-opacity:0.1; fill:none\" points=\"221.637,734.995 2352.76,734.995 \"/>\n<polyline clip-path=\"url(#clip800)\" style=\"stroke:#000000; stroke-linecap:round; stroke-linejoin:round; stroke-width:4; stroke-opacity:1; fill:none\" points=\"221.637,1410.9 221.637,123.472 \"/>\n<polyline clip-path=\"url(#clip800)\" style=\"stroke:#000000; stroke-linecap:round; stroke-linejoin:round; stroke-width:4; stroke-opacity:1; fill:none\" points=\"221.637,1374.46 240.535,1374.46 \"/>\n<polyline clip-path=\"url(#clip800)\" style=\"stroke:#000000; stroke-linecap:round; stroke-linejoin:round; stroke-width:4; stroke-opacity:1; fill:none\" points=\"221.637,734.995 240.535,734.995 \"/>\n<path clip-path=\"url(#clip800)\" d=\"M114.931 1394.25 L122.57 1394.25 L122.57 1367.89 L114.26 1369.55 L114.26 1365.29 L122.524 1363.63 L127.2 1363.63 L127.2 1394.25 L134.839 1394.25 L134.839 1398.19 L114.931 1398.19 L114.931 1394.25 Z\" fill=\"#000000\" fill-rule=\"nonzero\" fill-opacity=\"1\" /><path clip-path=\"url(#clip800)\" d=\"M154.283 1366.71 Q150.672 1366.71 148.843 1370.27 Q147.038 1373.81 147.038 1380.94 Q147.038 1388.05 148.843 1391.61 Q150.672 1395.16 154.283 1395.16 Q157.917 1395.16 159.723 1391.61 Q161.552 1388.05 161.552 1380.94 Q161.552 1373.81 159.723 1370.27 Q157.917 1366.71 154.283 1366.71 M154.283 1363 Q160.093 1363 163.149 1367.61 Q166.227 1372.19 166.227 1380.94 Q166.227 1389.67 163.149 1394.28 Q160.093 1398.86 154.283 1398.86 Q148.473 1398.86 145.394 1394.28 Q142.339 1389.67 142.339 1380.94 Q142.339 1372.19 145.394 1367.61 Q148.473 1363 154.283 1363 Z\" fill=\"#000000\" fill-rule=\"nonzero\" fill-opacity=\"1\" /><path clip-path=\"url(#clip800)\" d=\"M175.932 1345.2 Q172.998 1345.2 171.512 1348.1 Q170.045 1350.97 170.045 1356.77 Q170.045 1362.54 171.512 1365.44 Q172.998 1368.31 175.932 1368.31 Q178.885 1368.31 180.352 1365.44 Q181.838 1362.54 181.838 1356.77 Q181.838 1350.97 180.352 1348.1 Q178.885 1345.2 175.932 1345.2 M175.932 1342.19 Q180.653 1342.19 183.136 1345.93 Q185.637 1349.66 185.637 1356.77 Q185.637 1363.86 183.136 1367.6 Q180.653 1371.32 175.932 1371.32 Q171.212 1371.32 168.71 1367.6 Q166.227 1363.86 166.227 1356.77 Q166.227 1349.66 168.71 1345.93 Q171.212 1342.19 175.932 1342.19 Z\" fill=\"#000000\" fill-rule=\"nonzero\" fill-opacity=\"1\" /><path clip-path=\"url(#clip800)\" d=\"M116.511 754.788 L124.15 754.788 L124.15 728.422 L115.84 730.089 L115.84 725.83 L124.104 724.163 L128.78 724.163 L128.78 754.788 L136.419 754.788 L136.419 758.723 L116.511 758.723 L116.511 754.788 Z\" fill=\"#000000\" fill-rule=\"nonzero\" fill-opacity=\"1\" /><path clip-path=\"url(#clip800)\" d=\"M155.863 727.242 Q152.252 727.242 150.423 730.807 Q148.618 734.348 148.618 741.478 Q148.618 748.584 150.423 752.149 Q152.252 755.691 155.863 755.691 Q159.497 755.691 161.303 752.149 Q163.131 748.584 163.131 741.478 Q163.131 734.348 161.303 730.807 Q159.497 727.242 155.863 727.242 M155.863 723.538 Q161.673 723.538 164.729 728.144 Q167.807 732.728 167.807 741.478 Q167.807 750.205 164.729 754.811 Q161.673 759.394 155.863 759.394 Q150.053 759.394 146.974 754.811 Q143.919 750.205 143.919 741.478 Q143.919 732.728 146.974 728.144 Q150.053 723.538 155.863 723.538 Z\" fill=\"#000000\" fill-rule=\"nonzero\" fill-opacity=\"1\" /><path clip-path=\"url(#clip800)\" d=\"M172.378 728.115 L185.637 728.115 L185.637 731.313 L167.807 731.313 L167.807 728.115 Q169.97 725.877 173.694 722.116 Q177.437 718.335 178.396 717.244 Q180.22 715.194 180.935 713.784 Q181.669 712.354 181.669 710.981 Q181.669 708.743 180.089 707.333 Q178.528 705.922 176.008 705.922 Q174.221 705.922 172.227 706.543 Q170.252 707.163 167.995 708.424 L167.995 704.587 Q170.29 703.665 172.284 703.195 Q174.277 702.725 175.932 702.725 Q180.296 702.725 182.891 704.907 Q185.487 707.088 185.487 710.737 Q185.487 712.467 184.828 714.028 Q184.189 715.571 182.477 717.677 Q182.007 718.222 179.487 720.837 Q176.967 723.432 172.378 728.115 Z\" fill=\"#000000\" fill-rule=\"nonzero\" fill-opacity=\"1\" /><path clip-path=\"url(#clip800)\" d=\"M16.4842 931.388 L16.4842 904.079 L21.895 904.079 L21.895 924.958 L35.8996 924.958 L35.8996 906.116 L41.3104 906.116 L41.3104 924.958 L64.0042 924.958 L64.0042 931.388 L16.4842 931.388 Z\" fill=\"#000000\" fill-rule=\"nonzero\" fill-opacity=\"1\" /><path clip-path=\"url(#clip800)\" d=\"M33.8307 878.234 Q33.2578 879.221 33.0032 880.398 Q32.7167 881.544 32.7167 882.945 Q32.7167 887.91 35.9632 890.584 Q39.1779 893.225 45.2253 893.225 L64.0042 893.225 L64.0042 899.114 L28.3562 899.114 L28.3562 893.225 L33.8944 893.225 Q30.6479 891.379 29.0883 888.419 Q27.4968 885.459 27.4968 881.226 Q27.4968 880.621 27.5923 879.889 Q27.656 879.157 27.8151 878.266 L33.8307 878.234 Z\" fill=\"#000000\" fill-rule=\"nonzero\" fill-opacity=\"1\" /><path clip-path=\"url(#clip800)\" d=\"M44.7161 843.032 L47.5806 843.032 L47.5806 869.959 Q53.6281 869.577 56.8109 866.33 Q59.9619 863.052 59.9619 857.227 Q59.9619 853.853 59.1344 850.702 Q58.3069 847.52 56.6518 844.4 L62.1899 844.4 Q63.5267 847.551 64.227 850.862 Q64.9272 854.172 64.9272 857.577 Q64.9272 866.107 59.9619 871.105 Q54.9967 876.07 46.5303 876.07 Q37.7774 876.07 32.6531 871.359 Q27.4968 866.617 27.4968 858.596 Q27.4968 851.403 32.1438 847.233 Q36.7589 843.032 44.7161 843.032 M42.9973 848.888 Q38.1912 848.952 35.3266 851.594 Q32.4621 854.204 32.4621 858.532 Q32.4621 863.434 35.2312 866.394 Q38.0002 869.322 43.0292 869.768 L42.9973 848.888 Z\" fill=\"#000000\" fill-rule=\"nonzero\" fill-opacity=\"1\" /><path clip-path=\"url(#clip800)\" d=\"M46.212 829.918 Q52.6732 829.918 56.3653 827.277 Q60.0256 824.603 60.0256 819.956 Q60.0256 815.309 56.3653 812.636 Q52.6732 809.962 46.212 809.962 Q39.7508 809.962 36.0905 812.636 Q32.3984 815.309 32.3984 819.956 Q32.3984 824.603 36.0905 827.277 Q39.7508 829.918 46.212 829.918 M58.657 809.962 Q61.8398 811.808 63.3994 814.641 Q64.9272 817.442 64.9272 821.388 Q64.9272 827.85 59.771 831.924 Q54.6147 835.966 46.212 835.966 Q37.8093 835.966 32.6531 831.924 Q27.4968 827.85 27.4968 821.388 Q27.4968 817.442 29.0564 814.641 Q30.5842 811.808 33.7671 809.962 L28.3562 809.962 L28.3562 804.105 L77.5631 804.105 L77.5631 809.962 L58.657 809.962 Z\" fill=\"#000000\" fill-rule=\"nonzero\" fill-opacity=\"1\" /><path clip-path=\"url(#clip800)\" d=\"M49.9359 792.647 L28.3562 792.647 L28.3562 786.791 L49.7131 786.791 Q54.7739 786.791 57.3202 784.817 Q59.8346 782.844 59.8346 778.897 Q59.8346 774.155 56.8109 771.418 Q53.7872 768.648 48.5673 768.648 L28.3562 768.648 L28.3562 762.792 L64.0042 762.792 L64.0042 768.648 L58.5296 768.648 Q61.7762 770.781 63.3676 773.614 Q64.9272 776.415 64.9272 780.139 Q64.9272 786.282 61.1078 789.464 Q57.2883 792.647 49.9359 792.647 M27.4968 777.911 L27.4968 777.911 Z\" fill=\"#000000\" fill-rule=\"nonzero\" fill-opacity=\"1\" /><path clip-path=\"url(#clip800)\" d=\"M44.7161 720.237 L47.5806 720.237 L47.5806 747.164 Q53.6281 746.782 56.8109 743.536 Q59.9619 740.257 59.9619 734.433 Q59.9619 731.059 59.1344 727.908 Q58.3069 724.725 56.6518 721.606 L62.1899 721.606 Q63.5267 724.757 64.227 728.067 Q64.9272 731.377 64.9272 734.783 Q64.9272 743.313 59.9619 748.31 Q54.9967 753.275 46.5303 753.275 Q37.7774 753.275 32.6531 748.565 Q27.4968 743.822 27.4968 735.801 Q27.4968 728.608 32.1438 724.439 Q36.7589 720.237 44.7161 720.237 M42.9973 726.094 Q38.1912 726.157 35.3266 728.799 Q32.4621 731.409 32.4621 735.738 Q32.4621 740.639 35.2312 743.599 Q38.0002 746.528 43.0292 746.973 L42.9973 726.094 Z\" fill=\"#000000\" fill-rule=\"nonzero\" fill-opacity=\"1\" /><path clip-path=\"url(#clip800)\" d=\"M42.4881 680.993 L64.0042 680.993 L64.0042 686.849 L42.679 686.849 Q37.6183 686.849 35.1038 688.823 Q32.5894 690.796 32.5894 694.743 Q32.5894 699.485 35.6131 702.222 Q38.6368 704.96 43.8567 704.96 L64.0042 704.96 L64.0042 710.848 L28.3562 710.848 L28.3562 704.96 L33.8944 704.96 Q30.6797 702.859 29.0883 700.026 Q27.4968 697.162 27.4968 693.438 Q27.4968 687.295 31.3163 684.144 Q35.1038 680.993 42.4881 680.993 Z\" fill=\"#000000\" fill-rule=\"nonzero\" fill-opacity=\"1\" /><path clip-path=\"url(#clip800)\" d=\"M29.7248 643.658 L35.1993 643.658 Q33.8307 646.14 33.1623 648.655 Q32.4621 651.138 32.4621 653.684 Q32.4621 659.381 36.0905 662.532 Q39.6872 665.683 46.212 665.683 Q52.7369 665.683 56.3653 662.532 Q59.9619 659.381 59.9619 653.684 Q59.9619 651.138 59.2935 648.655 Q58.5933 646.14 57.2247 643.658 L62.6355 643.658 Q63.7814 646.109 64.3543 648.75 Q64.9272 651.36 64.9272 654.32 Q64.9272 662.373 59.8664 667.115 Q54.8057 671.858 46.212 671.858 Q37.491 671.858 32.4939 667.084 Q27.4968 662.278 27.4968 653.938 Q27.4968 651.233 28.0697 648.655 Q28.6108 646.077 29.7248 643.658 Z\" fill=\"#000000\" fill-rule=\"nonzero\" fill-opacity=\"1\" /><path clip-path=\"url(#clip800)\" d=\"M67.3143 618.641 Q73.68 621.123 75.6216 623.479 Q77.5631 625.834 77.5631 629.781 L77.5631 634.459 L72.6615 634.459 L72.6615 631.022 Q72.6615 628.603 71.5157 627.266 Q70.3699 625.929 66.1048 624.306 L63.4312 623.256 L28.3562 637.674 L28.3562 631.468 L56.238 620.328 L28.3562 609.188 L28.3562 602.981 L67.3143 618.641 Z\" fill=\"#000000\" fill-rule=\"nonzero\" fill-opacity=\"1\" /><path clip-path=\"url(#clip800)\" d=\"M673.403 18.8205 L673.403 65.8515 L683.288 65.8515 Q695.805 65.8515 701.598 60.1802 Q707.431 54.509 707.431 42.2752 Q707.431 30.1225 701.598 24.4918 Q695.805 18.8205 683.288 18.8205 L673.403 18.8205 M665.221 12.096 L682.032 12.096 Q699.613 12.096 707.836 19.4281 Q716.06 26.7198 716.06 42.2752 Q716.06 57.9117 707.796 65.2439 Q699.532 72.576 682.032 72.576 L665.221 72.576 L665.221 12.096 Z\" fill=\"#000000\" fill-rule=\"nonzero\" fill-opacity=\"1\" /><path clip-path=\"url(#clip800)\" d=\"M767.587 48.0275 L767.587 51.6733 L733.316 51.6733 Q733.802 59.3701 737.934 63.421 Q742.107 67.4314 749.52 67.4314 Q753.814 67.4314 757.824 66.3781 Q761.875 65.3249 765.845 63.2184 L765.845 70.267 Q761.835 71.9684 757.622 72.8596 Q753.409 73.7508 749.074 73.7508 Q738.218 73.7508 731.858 67.4314 Q725.539 61.1119 725.539 50.3365 Q725.539 39.1965 731.534 32.6746 Q737.57 26.1121 747.778 26.1121 Q756.933 26.1121 762.24 32.0264 Q767.587 37.9003 767.587 48.0275 M760.133 45.84 Q760.052 39.7232 756.69 36.0774 Q753.368 32.4315 747.859 32.4315 Q741.621 32.4315 737.853 35.9558 Q734.127 39.4801 733.559 45.8805 L760.133 45.84 Z\" fill=\"#000000\" fill-rule=\"nonzero\" fill-opacity=\"1\" /><path clip-path=\"url(#clip800)\" d=\"M809.676 49.3643 Q809.676 41.2625 806.314 36.8065 Q802.992 32.3505 796.956 32.3505 Q790.961 32.3505 787.598 36.8065 Q784.277 41.2625 784.277 49.3643 Q784.277 57.4256 787.598 61.8816 Q790.961 66.3376 796.956 66.3376 Q802.992 66.3376 806.314 61.8816 Q809.676 57.4256 809.676 49.3643 M817.13 66.9452 Q817.13 78.5308 811.985 84.1616 Q806.84 89.8329 796.227 89.8329 Q792.298 89.8329 788.814 89.2252 Q785.33 88.6581 782.049 87.4428 L782.049 80.1917 Q785.33 81.9741 788.53 82.8248 Q791.73 83.6755 795.052 83.6755 Q802.384 83.6755 806.03 79.8271 Q809.676 76.0193 809.676 68.282 L809.676 64.5957 Q807.367 68.6061 803.762 70.5911 Q800.156 72.576 795.133 72.576 Q786.788 72.576 781.684 66.2161 Q776.58 59.8562 776.58 49.3643 Q776.58 38.832 781.684 32.472 Q786.788 26.1121 795.133 26.1121 Q800.156 26.1121 803.762 28.0971 Q807.367 30.082 809.676 34.0924 L809.676 27.2059 L817.13 27.2059 L817.13 66.9452 Z\" fill=\"#000000\" fill-rule=\"nonzero\" fill-opacity=\"1\" /><path clip-path=\"url(#clip800)\" d=\"M858.773 34.1734 Q857.517 33.4443 856.018 33.1202 Q854.56 32.7556 852.778 32.7556 Q846.458 32.7556 843.055 36.8875 Q839.693 40.9789 839.693 48.6757 L839.693 72.576 L832.199 72.576 L832.199 27.2059 L839.693 27.2059 L839.693 34.2544 Q842.043 30.1225 845.81 28.1376 Q849.577 26.1121 854.965 26.1121 Q855.735 26.1121 856.666 26.2337 Q857.598 26.3147 858.732 26.5172 L858.773 34.1734 Z\" fill=\"#000000\" fill-rule=\"nonzero\" fill-opacity=\"1\" /><path clip-path=\"url(#clip800)\" d=\"M903.576 48.0275 L903.576 51.6733 L869.305 51.6733 Q869.791 59.3701 873.923 63.421 Q878.096 67.4314 885.509 67.4314 Q889.803 67.4314 893.813 66.3781 Q897.864 65.3249 901.834 63.2184 L901.834 70.267 Q897.824 71.9684 893.611 72.8596 Q889.398 73.7508 885.063 73.7508 Q874.207 73.7508 867.847 67.4314 Q861.527 61.1119 861.527 50.3365 Q861.527 39.1965 867.523 32.6746 Q873.559 26.1121 883.767 26.1121 Q892.922 26.1121 898.229 32.0264 Q903.576 37.9003 903.576 48.0275 M896.122 45.84 Q896.041 39.7232 892.679 36.0774 Q889.357 32.4315 883.848 32.4315 Q877.61 32.4315 873.842 35.9558 Q870.115 39.4801 869.548 45.8805 L896.122 45.84 Z\" fill=\"#000000\" fill-rule=\"nonzero\" fill-opacity=\"1\" /><path clip-path=\"url(#clip800)\" d=\"M954.617 48.0275 L954.617 51.6733 L920.347 51.6733 Q920.833 59.3701 924.965 63.421 Q929.137 67.4314 936.55 67.4314 Q940.844 67.4314 944.855 66.3781 Q948.905 65.3249 952.875 63.2184 L952.875 70.267 Q948.865 71.9684 944.652 72.8596 Q940.439 73.7508 936.105 73.7508 Q925.248 73.7508 918.888 67.4314 Q912.569 61.1119 912.569 50.3365 Q912.569 39.1965 918.564 32.6746 Q924.6 26.1121 934.808 26.1121 Q943.963 26.1121 949.27 32.0264 Q954.617 37.9003 954.617 48.0275 M947.164 45.84 Q947.083 39.7232 943.72 36.0774 Q940.399 32.4315 934.889 32.4315 Q928.651 32.4315 924.884 35.9558 Q921.157 39.4801 920.59 45.8805 L947.164 45.84 Z\" fill=\"#000000\" fill-rule=\"nonzero\" fill-opacity=\"1\" /><path clip-path=\"url(#clip800)\" d=\"M1001.73 18.8205 L1001.73 65.8515 L1011.61 65.8515 Q1024.13 65.8515 1029.92 60.1802 Q1035.76 54.509 1035.76 42.2752 Q1035.76 30.1225 1029.92 24.4918 Q1024.13 18.8205 1011.61 18.8205 L1001.73 18.8205 M993.546 12.096 L1010.36 12.096 Q1027.94 12.096 1036.16 19.4281 Q1044.39 26.7198 1044.39 42.2752 Q1044.39 57.9117 1036.12 65.2439 Q1027.86 72.576 1010.36 72.576 L993.546 72.576 L993.546 12.096 Z\" fill=\"#000000\" fill-rule=\"nonzero\" fill-opacity=\"1\" /><path clip-path=\"url(#clip800)\" d=\"M1057.11 27.2059 L1064.56 27.2059 L1064.56 72.576 L1057.11 72.576 L1057.11 27.2059 M1057.11 9.54393 L1064.56 9.54393 L1064.56 18.9825 L1057.11 18.9825 L1057.11 9.54393 Z\" fill=\"#000000\" fill-rule=\"nonzero\" fill-opacity=\"1\" /><path clip-path=\"url(#clip800)\" d=\"M1109.08 28.5427 L1109.08 35.5912 Q1105.92 33.9709 1102.52 33.1607 Q1099.11 32.3505 1095.47 32.3505 Q1089.92 32.3505 1087.12 34.0519 Q1084.37 35.7533 1084.37 39.156 Q1084.37 41.7486 1086.35 43.2475 Q1088.34 44.7058 1094.33 46.0426 L1096.89 46.6097 Q1104.82 48.3111 1108.15 51.4303 Q1111.51 54.509 1111.51 60.0587 Q1111.51 66.3781 1106.49 70.0644 Q1101.5 73.7508 1092.75 73.7508 Q1089.11 73.7508 1085.14 73.0216 Q1081.21 72.3329 1076.83 70.9151 L1076.83 63.2184 Q1080.96 65.3654 1084.98 66.4591 Q1088.99 67.5124 1092.92 67.5124 Q1098.18 67.5124 1101.02 65.73 Q1103.85 63.9071 1103.85 60.6258 Q1103.85 57.5877 1101.79 55.9673 Q1099.76 54.3469 1092.83 52.8481 L1090.24 52.2405 Q1083.31 50.7821 1080.24 47.7845 Q1077.16 44.7463 1077.16 39.4801 Q1077.16 33.0797 1081.69 29.5959 Q1086.23 26.1121 1094.58 26.1121 Q1098.71 26.1121 1102.35 26.7198 Q1106 27.3274 1109.08 28.5427 Z\" fill=\"#000000\" fill-rule=\"nonzero\" fill-opacity=\"1\" /><path clip-path=\"url(#clip800)\" d=\"M1130.75 14.324 L1130.75 27.2059 L1146.1 27.2059 L1146.1 32.9987 L1130.75 32.9987 L1130.75 57.6282 Q1130.75 63.1779 1132.25 64.7578 Q1133.79 66.3376 1138.45 66.3376 L1146.1 66.3376 L1146.1 72.576 L1138.45 72.576 Q1129.82 72.576 1126.54 69.3758 Q1123.26 66.1351 1123.26 57.6282 L1123.26 32.9987 L1117.79 32.9987 L1117.79 27.2059 L1123.26 27.2059 L1123.26 14.324 L1130.75 14.324 Z\" fill=\"#000000\" fill-rule=\"nonzero\" fill-opacity=\"1\" /><path clip-path=\"url(#clip800)\" d=\"M1182.2 34.1734 Q1180.94 33.4443 1179.44 33.1202 Q1177.98 32.7556 1176.2 32.7556 Q1169.88 32.7556 1166.48 36.8875 Q1163.12 40.9789 1163.12 48.6757 L1163.12 72.576 L1155.62 72.576 L1155.62 27.2059 L1163.12 27.2059 L1163.12 34.2544 Q1165.47 30.1225 1169.23 28.1376 Q1173 26.1121 1178.39 26.1121 Q1179.16 26.1121 1180.09 26.2337 Q1181.02 26.3147 1182.16 26.5172 L1182.2 34.1734 Z\" fill=\"#000000\" fill-rule=\"nonzero\" fill-opacity=\"1\" /><path clip-path=\"url(#clip800)\" d=\"M1190.02 27.2059 L1197.47 27.2059 L1197.47 72.576 L1190.02 72.576 L1190.02 27.2059 M1190.02 9.54393 L1197.47 9.54393 L1197.47 18.9825 L1190.02 18.9825 L1190.02 9.54393 Z\" fill=\"#000000\" fill-rule=\"nonzero\" fill-opacity=\"1\" /><path clip-path=\"url(#clip800)\" d=\"M1245.63 49.9314 Q1245.63 41.7081 1242.23 37.0496 Q1238.87 32.3505 1232.95 32.3505 Q1227.04 32.3505 1223.64 37.0496 Q1220.28 41.7081 1220.28 49.9314 Q1220.28 58.1548 1223.64 62.8538 Q1227.04 67.5124 1232.95 67.5124 Q1238.87 67.5124 1242.23 62.8538 Q1245.63 58.1548 1245.63 49.9314 M1220.28 34.0924 Q1222.63 30.0415 1226.19 28.0971 Q1229.8 26.1121 1234.78 26.1121 Q1243.04 26.1121 1248.19 32.6746 Q1253.37 39.2371 1253.37 49.9314 Q1253.37 60.6258 1248.19 67.1883 Q1243.04 73.7508 1234.78 73.7508 Q1229.8 73.7508 1226.19 71.8063 Q1222.63 69.8214 1220.28 65.7705 L1220.28 72.576 L1212.78 72.576 L1212.78 9.54393 L1220.28 9.54393 L1220.28 34.0924 Z\" fill=\"#000000\" fill-rule=\"nonzero\" fill-opacity=\"1\" /><path clip-path=\"url(#clip800)\" d=\"M1264.96 54.671 L1264.96 27.2059 L1272.41 27.2059 L1272.41 54.3874 Q1272.41 60.8284 1274.92 64.0691 Q1277.43 67.2693 1282.46 67.2693 Q1288.49 67.2693 1291.98 63.421 Q1295.5 59.5726 1295.5 52.9291 L1295.5 27.2059 L1302.95 27.2059 L1302.95 72.576 L1295.5 72.576 L1295.5 65.6084 Q1292.79 69.7404 1289.18 71.7658 Q1285.62 73.7508 1280.88 73.7508 Q1273.06 73.7508 1269.01 68.8897 Q1264.96 64.0286 1264.96 54.671 M1283.71 26.1121 L1283.71 26.1121 Z\" fill=\"#000000\" fill-rule=\"nonzero\" fill-opacity=\"1\" /><path clip-path=\"url(#clip800)\" d=\"M1325.68 14.324 L1325.68 27.2059 L1341.03 27.2059 L1341.03 32.9987 L1325.68 32.9987 L1325.68 57.6282 Q1325.68 63.1779 1327.18 64.7578 Q1328.72 66.3376 1333.38 66.3376 L1341.03 66.3376 L1341.03 72.576 L1333.38 72.576 Q1324.75 72.576 1321.47 69.3758 Q1318.19 66.1351 1318.19 57.6282 L1318.19 32.9987 L1312.72 32.9987 L1312.72 27.2059 L1318.19 27.2059 L1318.19 14.324 L1325.68 14.324 Z\" fill=\"#000000\" fill-rule=\"nonzero\" fill-opacity=\"1\" /><path clip-path=\"url(#clip800)\" d=\"M1350.84 27.2059 L1358.29 27.2059 L1358.29 72.576 L1350.84 72.576 L1350.84 27.2059 M1350.84 9.54393 L1358.29 9.54393 L1358.29 18.9825 L1350.84 18.9825 L1350.84 9.54393 Z\" fill=\"#000000\" fill-rule=\"nonzero\" fill-opacity=\"1\" /><path clip-path=\"url(#clip800)\" d=\"M1391.47 32.4315 Q1385.47 32.4315 1381.99 37.1306 Q1378.5 41.7891 1378.5 49.9314 Q1378.5 58.0738 1381.95 62.7728 Q1385.43 67.4314 1391.47 67.4314 Q1397.42 67.4314 1400.91 62.7323 Q1404.39 58.0333 1404.39 49.9314 Q1404.39 41.8701 1400.91 37.1711 Q1397.42 32.4315 1391.47 32.4315 M1391.47 26.1121 Q1401.19 26.1121 1406.74 32.4315 Q1412.29 38.7509 1412.29 49.9314 Q1412.29 61.0714 1406.74 67.4314 Q1401.19 73.7508 1391.47 73.7508 Q1381.7 73.7508 1376.15 67.4314 Q1370.65 61.0714 1370.65 49.9314 Q1370.65 38.7509 1376.15 32.4315 Q1381.7 26.1121 1391.47 26.1121 Z\" fill=\"#000000\" fill-rule=\"nonzero\" fill-opacity=\"1\" /><path clip-path=\"url(#clip800)\" d=\"M1462.36 45.1919 L1462.36 72.576 L1454.9 72.576 L1454.9 45.4349 Q1454.9 38.994 1452.39 35.7938 Q1449.88 32.5936 1444.86 32.5936 Q1438.82 32.5936 1435.34 36.4419 Q1431.85 40.2903 1431.85 46.9338 L1431.85 72.576 L1424.36 72.576 L1424.36 27.2059 L1431.85 27.2059 L1431.85 34.2544 Q1434.53 30.163 1438.13 28.1376 Q1441.78 26.1121 1446.52 26.1121 Q1454.34 26.1121 1458.35 30.9732 Q1462.36 35.7938 1462.36 45.1919 Z\" fill=\"#000000\" fill-rule=\"nonzero\" fill-opacity=\"1\" /><path clip-path=\"url(#clip800)\" d=\"M1521.18 32.4315 Q1515.18 32.4315 1511.7 37.1306 Q1508.21 41.7891 1508.21 49.9314 Q1508.21 58.0738 1511.66 62.7728 Q1515.14 67.4314 1521.18 67.4314 Q1527.13 67.4314 1530.62 62.7323 Q1534.1 58.0333 1534.1 49.9314 Q1534.1 41.8701 1530.62 37.1711 Q1527.13 32.4315 1521.18 32.4315 M1521.18 26.1121 Q1530.9 26.1121 1536.45 32.4315 Q1542 38.7509 1542 49.9314 Q1542 61.0714 1536.45 67.4314 Q1530.9 73.7508 1521.18 73.7508 Q1511.41 73.7508 1505.86 67.4314 Q1500.36 61.0714 1500.36 49.9314 Q1500.36 38.7509 1505.86 32.4315 Q1511.41 26.1121 1521.18 26.1121 Z\" fill=\"#000000\" fill-rule=\"nonzero\" fill-opacity=\"1\" /><path clip-path=\"url(#clip800)\" d=\"M1577.32 9.54393 L1577.32 15.7418 L1570.19 15.7418 Q1566.18 15.7418 1564.6 17.3622 Q1563.06 18.9825 1563.06 23.1955 L1563.06 27.2059 L1575.34 27.2059 L1575.34 32.9987 L1563.06 32.9987 L1563.06 72.576 L1555.57 72.576 L1555.57 32.9987 L1548.44 32.9987 L1548.44 27.2059 L1555.57 27.2059 L1555.57 24.0462 Q1555.57 16.471 1559.09 13.0277 Q1562.62 9.54393 1570.27 9.54393 L1577.32 9.54393 Z\" fill=\"#000000\" fill-rule=\"nonzero\" fill-opacity=\"1\" /><path clip-path=\"url(#clip800)\" d=\"M1604.87 12.096 L1613.13 12.096 L1625.85 63.2184 L1638.53 12.096 L1647.73 12.096 L1660.45 63.2184 L1673.13 12.096 L1681.43 12.096 L1666.24 72.576 L1655.95 72.576 L1643.19 20.0763 L1630.31 72.576 L1620.02 72.576 L1604.87 12.096 Z\" fill=\"#000000\" fill-rule=\"nonzero\" fill-opacity=\"1\" /><path clip-path=\"url(#clip800)\" d=\"M1690.14 27.2059 L1697.59 27.2059 L1697.59 72.576 L1690.14 72.576 L1690.14 27.2059 M1690.14 9.54393 L1697.59 9.54393 L1697.59 18.9825 L1690.14 18.9825 L1690.14 9.54393 Z\" fill=\"#000000\" fill-rule=\"nonzero\" fill-opacity=\"1\" /><path clip-path=\"url(#clip800)\" d=\"M1712.91 9.54393 L1720.4 9.54393 L1720.4 46.7717 L1742.64 27.2059 L1752.16 27.2059 L1728.1 48.4326 L1753.17 72.576 L1743.45 72.576 L1720.4 50.4176 L1720.4 72.576 L1712.91 72.576 L1712.91 9.54393 Z\" fill=\"#000000\" fill-rule=\"nonzero\" fill-opacity=\"1\" /><path clip-path=\"url(#clip800)\" d=\"M1761.23 27.2059 L1768.69 27.2059 L1768.69 72.576 L1761.23 72.576 L1761.23 27.2059 M1761.23 9.54393 L1768.69 9.54393 L1768.69 18.9825 L1761.23 18.9825 L1761.23 9.54393 Z\" fill=\"#000000\" fill-rule=\"nonzero\" fill-opacity=\"1\" /><path clip-path=\"url(#clip800)\" d=\"M1818.76 86.3491 L1818.76 92.1419 L1775.65 92.1419 L1775.65 86.3491 L1818.76 86.3491 Z\" fill=\"#000000\" fill-rule=\"nonzero\" fill-opacity=\"1\" /><path clip-path=\"url(#clip800)\" d=\"M1843.35 32.4315 Q1837.35 32.4315 1833.87 37.1306 Q1830.38 41.7891 1830.38 49.9314 Q1830.38 58.0738 1833.83 62.7728 Q1837.31 67.4314 1843.35 67.4314 Q1849.3 67.4314 1852.78 62.7323 Q1856.27 58.0333 1856.27 49.9314 Q1856.27 41.8701 1852.78 37.1711 Q1849.3 32.4315 1843.35 32.4315 M1843.35 26.1121 Q1853.07 26.1121 1858.62 32.4315 Q1864.17 38.7509 1864.17 49.9314 Q1864.17 61.0714 1858.62 67.4314 Q1853.07 73.7508 1843.35 73.7508 Q1833.58 73.7508 1828.03 67.4314 Q1822.52 61.0714 1822.52 49.9314 Q1822.52 38.7509 1828.03 32.4315 Q1833.58 26.1121 1843.35 26.1121 Z\" fill=\"#000000\" fill-rule=\"nonzero\" fill-opacity=\"1\" /><path clip-path=\"url(#clip800)\" d=\"M1909.17 28.9478 L1909.17 35.9153 Q1906.01 34.1734 1902.81 33.3227 Q1899.65 32.4315 1896.41 32.4315 Q1889.16 32.4315 1885.15 37.0496 Q1881.14 41.6271 1881.14 49.9314 Q1881.14 58.2358 1885.15 62.8538 Q1889.16 67.4314 1896.41 67.4314 Q1899.65 67.4314 1902.81 66.5807 Q1906.01 65.6895 1909.17 63.9476 L1909.17 70.8341 Q1906.05 72.2924 1902.69 73.0216 Q1899.37 73.7508 1895.6 73.7508 Q1885.35 73.7508 1879.32 67.3098 Q1873.28 60.8689 1873.28 49.9314 Q1873.28 38.832 1879.36 32.472 Q1885.47 26.1121 1896.09 26.1121 Q1899.53 26.1121 1902.81 26.8413 Q1906.09 27.5299 1909.17 28.9478 Z\" fill=\"#000000\" fill-rule=\"nonzero\" fill-opacity=\"1\" /><path clip-path=\"url(#clip802)\" d=\"M349.504 159.909 L349.504 1374.46 L370.815 1374.46 L370.815 159.909 L349.504 159.909 L349.504 159.909  Z\" fill=\"#009af9\" fill-rule=\"evenodd\" fill-opacity=\"1\"/>\n<polyline clip-path=\"url(#clip802)\" style=\"stroke:#000000; stroke-linecap:round; stroke-linejoin:round; stroke-width:4; stroke-opacity:1; fill:none\" points=\"349.504,159.909 349.504,1374.46 370.815,1374.46 370.815,159.909 349.504,159.909 \"/>\n<path clip-path=\"url(#clip802)\" d=\"M477.371 241.307 L477.371 1374.46 L498.683 1374.46 L498.683 241.307 L477.371 241.307 L477.371 241.307  Z\" fill=\"#009af9\" fill-rule=\"evenodd\" fill-opacity=\"1\"/>\n<polyline clip-path=\"url(#clip802)\" style=\"stroke:#000000; stroke-linecap:round; stroke-linejoin:round; stroke-width:4; stroke-opacity:1; fill:none\" points=\"477.371,241.307 477.371,1374.46 498.683,1374.46 498.683,241.307 477.371,241.307 \"/>\n<path clip-path=\"url(#clip802)\" d=\"M541.305 286.977 L541.305 1374.46 L562.616 1374.46 L562.616 286.977 L541.305 286.977 L541.305 286.977  Z\" fill=\"#009af9\" fill-rule=\"evenodd\" fill-opacity=\"1\"/>\n<polyline clip-path=\"url(#clip802)\" style=\"stroke:#000000; stroke-linecap:round; stroke-linejoin:round; stroke-width:4; stroke-opacity:1; fill:none\" points=\"541.305,286.977 541.305,1374.46 562.616,1374.46 562.616,286.977 541.305,286.977 \"/>\n<path clip-path=\"url(#clip802)\" d=\"M605.238 294.801 L605.238 1374.46 L626.55 1374.46 L626.55 294.801 L605.238 294.801 L605.238 294.801  Z\" fill=\"#009af9\" fill-rule=\"evenodd\" fill-opacity=\"1\"/>\n<polyline clip-path=\"url(#clip802)\" style=\"stroke:#000000; stroke-linecap:round; stroke-linejoin:round; stroke-width:4; stroke-opacity:1; fill:none\" points=\"605.238,294.801 605.238,1374.46 626.55,1374.46 626.55,294.801 605.238,294.801 \"/>\n<path clip-path=\"url(#clip802)\" d=\"M647.861 307.366 L647.861 1374.46 L669.172 1374.46 L669.172 307.366 L647.861 307.366 L647.861 307.366  Z\" fill=\"#009af9\" fill-rule=\"evenodd\" fill-opacity=\"1\"/>\n<polyline clip-path=\"url(#clip802)\" style=\"stroke:#000000; stroke-linecap:round; stroke-linejoin:round; stroke-width:4; stroke-opacity:1; fill:none\" points=\"647.861,307.366 647.861,1374.46 669.172,1374.46 669.172,307.366 647.861,307.366 \"/>\n<path clip-path=\"url(#clip802)\" d=\"M669.172 327.164 L669.172 1374.46 L690.483 1374.46 L690.483 327.164 L669.172 327.164 L669.172 327.164  Z\" fill=\"#009af9\" fill-rule=\"evenodd\" fill-opacity=\"1\"/>\n<polyline clip-path=\"url(#clip802)\" style=\"stroke:#000000; stroke-linecap:round; stroke-linejoin:round; stroke-width:4; stroke-opacity:1; fill:none\" points=\"669.172,327.164 669.172,1374.46 690.483,1374.46 690.483,327.164 669.172,327.164 \"/>\n<path clip-path=\"url(#clip802)\" d=\"M690.483 338.113 L690.483 1374.46 L711.794 1374.46 L711.794 338.113 L690.483 338.113 L690.483 338.113  Z\" fill=\"#009af9\" fill-rule=\"evenodd\" fill-opacity=\"1\"/>\n<polyline clip-path=\"url(#clip802)\" style=\"stroke:#000000; stroke-linecap:round; stroke-linejoin:round; stroke-width:4; stroke-opacity:1; fill:none\" points=\"690.483,338.113 690.483,1374.46 711.794,1374.46 711.794,338.113 690.483,338.113 \"/>\n<path clip-path=\"url(#clip802)\" d=\"M733.106 349.913 L733.106 1374.46 L754.417 1374.46 L754.417 349.913 L733.106 349.913 L733.106 349.913  Z\" fill=\"#009af9\" fill-rule=\"evenodd\" fill-opacity=\"1\"/>\n<polyline clip-path=\"url(#clip802)\" style=\"stroke:#000000; stroke-linecap:round; stroke-linejoin:round; stroke-width:4; stroke-opacity:1; fill:none\" points=\"733.106,349.913 733.106,1374.46 754.417,1374.46 754.417,349.913 733.106,349.913 \"/>\n<path clip-path=\"url(#clip802)\" d=\"M754.417 363.095 L754.417 1374.46 L775.728 1374.46 L775.728 363.095 L754.417 363.095 L754.417 363.095  Z\" fill=\"#009af9\" fill-rule=\"evenodd\" fill-opacity=\"1\"/>\n<polyline clip-path=\"url(#clip802)\" style=\"stroke:#000000; stroke-linecap:round; stroke-linejoin:round; stroke-width:4; stroke-opacity:1; fill:none\" points=\"754.417,363.095 754.417,1374.46 775.728,1374.46 775.728,363.095 754.417,363.095 \"/>\n<path clip-path=\"url(#clip802)\" d=\"M775.728 285.77 L775.728 1374.46 L797.039 1374.46 L797.039 285.77 L775.728 285.77 L775.728 285.77  Z\" fill=\"#009af9\" fill-rule=\"evenodd\" fill-opacity=\"1\"/>\n<polyline clip-path=\"url(#clip802)\" style=\"stroke:#000000; stroke-linecap:round; stroke-linejoin:round; stroke-width:4; stroke-opacity:1; fill:none\" points=\"775.728,285.77 775.728,1374.46 797.039,1374.46 797.039,285.77 775.728,285.77 \"/>\n<path clip-path=\"url(#clip802)\" d=\"M797.039 410.755 L797.039 1374.46 L818.35 1374.46 L818.35 410.755 L797.039 410.755 L797.039 410.755  Z\" fill=\"#009af9\" fill-rule=\"evenodd\" fill-opacity=\"1\"/>\n<polyline clip-path=\"url(#clip802)\" style=\"stroke:#000000; stroke-linecap:round; stroke-linejoin:round; stroke-width:4; stroke-opacity:1; fill:none\" points=\"797.039,410.755 797.039,1374.46 818.35,1374.46 818.35,410.755 797.039,410.755 \"/>\n<path clip-path=\"url(#clip802)\" d=\"M818.35 291.687 L818.35 1374.46 L839.662 1374.46 L839.662 291.687 L818.35 291.687 L818.35 291.687  Z\" fill=\"#009af9\" fill-rule=\"evenodd\" fill-opacity=\"1\"/>\n<polyline clip-path=\"url(#clip802)\" style=\"stroke:#000000; stroke-linecap:round; stroke-linejoin:round; stroke-width:4; stroke-opacity:1; fill:none\" points=\"818.35,291.687 818.35,1374.46 839.662,1374.46 839.662,291.687 818.35,291.687 \"/>\n<path clip-path=\"url(#clip802)\" d=\"M839.662 430.822 L839.662 1374.46 L860.973 1374.46 L860.973 430.822 L839.662 430.822 L839.662 430.822  Z\" fill=\"#009af9\" fill-rule=\"evenodd\" fill-opacity=\"1\"/>\n<polyline clip-path=\"url(#clip802)\" style=\"stroke:#000000; stroke-linecap:round; stroke-linejoin:round; stroke-width:4; stroke-opacity:1; fill:none\" points=\"839.662,430.822 839.662,1374.46 860.973,1374.46 860.973,430.822 839.662,430.822 \"/>\n<path clip-path=\"url(#clip802)\" d=\"M860.973 367.454 L860.973 1374.46 L882.284 1374.46 L882.284 367.454 L860.973 367.454 L860.973 367.454  Z\" fill=\"#009af9\" fill-rule=\"evenodd\" fill-opacity=\"1\"/>\n<polyline clip-path=\"url(#clip802)\" style=\"stroke:#000000; stroke-linecap:round; stroke-linejoin:round; stroke-width:4; stroke-opacity:1; fill:none\" points=\"860.973,367.454 860.973,1374.46 882.284,1374.46 882.284,367.454 860.973,367.454 \"/>\n<path clip-path=\"url(#clip802)\" d=\"M882.284 392.87 L882.284 1374.46 L903.595 1374.46 L903.595 392.87 L882.284 392.87 L882.284 392.87  Z\" fill=\"#009af9\" fill-rule=\"evenodd\" fill-opacity=\"1\"/>\n<polyline clip-path=\"url(#clip802)\" style=\"stroke:#000000; stroke-linecap:round; stroke-linejoin:round; stroke-width:4; stroke-opacity:1; fill:none\" points=\"882.284,392.87 882.284,1374.46 903.595,1374.46 903.595,392.87 882.284,392.87 \"/>\n<path clip-path=\"url(#clip802)\" d=\"M903.595 364.533 L903.595 1374.46 L924.906 1374.46 L924.906 364.533 L903.595 364.533 L903.595 364.533  Z\" fill=\"#009af9\" fill-rule=\"evenodd\" fill-opacity=\"1\"/>\n<polyline clip-path=\"url(#clip802)\" style=\"stroke:#000000; stroke-linecap:round; stroke-linejoin:round; stroke-width:4; stroke-opacity:1; fill:none\" points=\"903.595,364.533 903.595,1374.46 924.906,1374.46 924.906,364.533 903.595,364.533 \"/>\n<path clip-path=\"url(#clip802)\" d=\"M924.906 393.225 L924.906 1374.46 L946.217 1374.46 L946.217 393.225 L924.906 393.225 L924.906 393.225  Z\" fill=\"#009af9\" fill-rule=\"evenodd\" fill-opacity=\"1\"/>\n<polyline clip-path=\"url(#clip802)\" style=\"stroke:#000000; stroke-linecap:round; stroke-linejoin:round; stroke-width:4; stroke-opacity:1; fill:none\" points=\"924.906,393.225 924.906,1374.46 946.217,1374.46 946.217,393.225 924.906,393.225 \"/>\n<path clip-path=\"url(#clip802)\" d=\"M946.217 417.221 L946.217 1374.46 L967.529 1374.46 L967.529 417.221 L946.217 417.221 L946.217 417.221  Z\" fill=\"#009af9\" fill-rule=\"evenodd\" fill-opacity=\"1\"/>\n<polyline clip-path=\"url(#clip802)\" style=\"stroke:#000000; stroke-linecap:round; stroke-linejoin:round; stroke-width:4; stroke-opacity:1; fill:none\" points=\"946.217,417.221 946.217,1374.46 967.529,1374.46 967.529,417.221 946.217,417.221 \"/>\n<path clip-path=\"url(#clip802)\" d=\"M967.529 431.133 L967.529 1374.46 L988.84 1374.46 L988.84 431.133 L967.529 431.133 L967.529 431.133  Z\" fill=\"#009af9\" fill-rule=\"evenodd\" fill-opacity=\"1\"/>\n<polyline clip-path=\"url(#clip802)\" style=\"stroke:#000000; stroke-linecap:round; stroke-linejoin:round; stroke-width:4; stroke-opacity:1; fill:none\" points=\"967.529,431.133 967.529,1374.46 988.84,1374.46 988.84,431.133 967.529,431.133 \"/>\n<path clip-path=\"url(#clip802)\" d=\"M988.84 412.922 L988.84 1374.46 L1010.15 1374.46 L1010.15 412.922 L988.84 412.922 L988.84 412.922  Z\" fill=\"#009af9\" fill-rule=\"evenodd\" fill-opacity=\"1\"/>\n<polyline clip-path=\"url(#clip802)\" style=\"stroke:#000000; stroke-linecap:round; stroke-linejoin:round; stroke-width:4; stroke-opacity:1; fill:none\" points=\"988.84,412.922 988.84,1374.46 1010.15,1374.46 1010.15,412.922 988.84,412.922 \"/>\n<path clip-path=\"url(#clip802)\" d=\"M1010.15 431.914 L1010.15 1374.46 L1031.46 1374.46 L1031.46 431.914 L1010.15 431.914 L1010.15 431.914  Z\" fill=\"#009af9\" fill-rule=\"evenodd\" fill-opacity=\"1\"/>\n<polyline clip-path=\"url(#clip802)\" style=\"stroke:#000000; stroke-linecap:round; stroke-linejoin:round; stroke-width:4; stroke-opacity:1; fill:none\" points=\"1010.15,431.914 1010.15,1374.46 1031.46,1374.46 1031.46,431.914 1010.15,431.914 \"/>\n<path clip-path=\"url(#clip802)\" d=\"M1031.46 459.726 L1031.46 1374.46 L1052.77 1374.46 L1052.77 459.726 L1031.46 459.726 L1031.46 459.726  Z\" fill=\"#009af9\" fill-rule=\"evenodd\" fill-opacity=\"1\"/>\n<polyline clip-path=\"url(#clip802)\" style=\"stroke:#000000; stroke-linecap:round; stroke-linejoin:round; stroke-width:4; stroke-opacity:1; fill:none\" points=\"1031.46,459.726 1031.46,1374.46 1052.77,1374.46 1052.77,459.726 1031.46,459.726 \"/>\n<path clip-path=\"url(#clip802)\" d=\"M1052.77 466.386 L1052.77 1374.46 L1074.08 1374.46 L1074.08 466.386 L1052.77 466.386 L1052.77 466.386  Z\" fill=\"#009af9\" fill-rule=\"evenodd\" fill-opacity=\"1\"/>\n<polyline clip-path=\"url(#clip802)\" style=\"stroke:#000000; stroke-linecap:round; stroke-linejoin:round; stroke-width:4; stroke-opacity:1; fill:none\" points=\"1052.77,466.386 1052.77,1374.46 1074.08,1374.46 1074.08,466.386 1052.77,466.386 \"/>\n<path clip-path=\"url(#clip802)\" d=\"M1074.08 465.986 L1074.08 1374.46 L1095.4 1374.46 L1095.4 465.986 L1074.08 465.986 L1074.08 465.986  Z\" fill=\"#009af9\" fill-rule=\"evenodd\" fill-opacity=\"1\"/>\n<polyline clip-path=\"url(#clip802)\" style=\"stroke:#000000; stroke-linecap:round; stroke-linejoin:round; stroke-width:4; stroke-opacity:1; fill:none\" points=\"1074.08,465.986 1074.08,1374.46 1095.4,1374.46 1095.4,465.986 1074.08,465.986 \"/>\n<path clip-path=\"url(#clip802)\" d=\"M1095.4 503.683 L1095.4 1374.46 L1116.71 1374.46 L1116.71 503.683 L1095.4 503.683 L1095.4 503.683  Z\" fill=\"#009af9\" fill-rule=\"evenodd\" fill-opacity=\"1\"/>\n<polyline clip-path=\"url(#clip802)\" style=\"stroke:#000000; stroke-linecap:round; stroke-linejoin:round; stroke-width:4; stroke-opacity:1; fill:none\" points=\"1095.4,503.683 1095.4,1374.46 1116.71,1374.46 1116.71,503.683 1095.4,503.683 \"/>\n<path clip-path=\"url(#clip802)\" d=\"M1116.71 436.045 L1116.71 1374.46 L1138.02 1374.46 L1138.02 436.045 L1116.71 436.045 L1116.71 436.045  Z\" fill=\"#009af9\" fill-rule=\"evenodd\" fill-opacity=\"1\"/>\n<polyline clip-path=\"url(#clip802)\" style=\"stroke:#000000; stroke-linecap:round; stroke-linejoin:round; stroke-width:4; stroke-opacity:1; fill:none\" points=\"1116.71,436.045 1116.71,1374.46 1138.02,1374.46 1138.02,436.045 1116.71,436.045 \"/>\n<path clip-path=\"url(#clip802)\" d=\"M1138.02 437.504 L1138.02 1374.46 L1159.33 1374.46 L1159.33 437.504 L1138.02 437.504 L1138.02 437.504  Z\" fill=\"#009af9\" fill-rule=\"evenodd\" fill-opacity=\"1\"/>\n<polyline clip-path=\"url(#clip802)\" style=\"stroke:#000000; stroke-linecap:round; stroke-linejoin:round; stroke-width:4; stroke-opacity:1; fill:none\" points=\"1138.02,437.504 1138.02,1374.46 1159.33,1374.46 1159.33,437.504 1138.02,437.504 \"/>\n<path clip-path=\"url(#clip802)\" d=\"M1159.33 484.128 L1159.33 1374.46 L1180.64 1374.46 L1180.64 484.128 L1159.33 484.128 L1159.33 484.128  Z\" fill=\"#009af9\" fill-rule=\"evenodd\" fill-opacity=\"1\"/>\n<polyline clip-path=\"url(#clip802)\" style=\"stroke:#000000; stroke-linecap:round; stroke-linejoin:round; stroke-width:4; stroke-opacity:1; fill:none\" points=\"1159.33,484.128 1159.33,1374.46 1180.64,1374.46 1180.64,484.128 1159.33,484.128 \"/>\n<path clip-path=\"url(#clip802)\" d=\"M1180.64 472.331 L1180.64 1374.46 L1201.95 1374.46 L1201.95 472.331 L1180.64 472.331 L1180.64 472.331  Z\" fill=\"#009af9\" fill-rule=\"evenodd\" fill-opacity=\"1\"/>\n<polyline clip-path=\"url(#clip802)\" style=\"stroke:#000000; stroke-linecap:round; stroke-linejoin:round; stroke-width:4; stroke-opacity:1; fill:none\" points=\"1180.64,472.331 1180.64,1374.46 1201.95,1374.46 1201.95,472.331 1180.64,472.331 \"/>\n<path clip-path=\"url(#clip802)\" d=\"M1201.95 408.488 L1201.95 1374.46 L1223.26 1374.46 L1223.26 408.488 L1201.95 408.488 L1201.95 408.488  Z\" fill=\"#009af9\" fill-rule=\"evenodd\" fill-opacity=\"1\"/>\n<polyline clip-path=\"url(#clip802)\" style=\"stroke:#000000; stroke-linecap:round; stroke-linejoin:round; stroke-width:4; stroke-opacity:1; fill:none\" points=\"1201.95,408.488 1201.95,1374.46 1223.26,1374.46 1223.26,408.488 1201.95,408.488 \"/>\n<path clip-path=\"url(#clip802)\" d=\"M1223.26 506.066 L1223.26 1374.46 L1244.57 1374.46 L1244.57 506.066 L1223.26 506.066 L1223.26 506.066  Z\" fill=\"#009af9\" fill-rule=\"evenodd\" fill-opacity=\"1\"/>\n<polyline clip-path=\"url(#clip802)\" style=\"stroke:#000000; stroke-linecap:round; stroke-linejoin:round; stroke-width:4; stroke-opacity:1; fill:none\" points=\"1223.26,506.066 1223.26,1374.46 1244.57,1374.46 1244.57,506.066 1223.26,506.066 \"/>\n<path clip-path=\"url(#clip802)\" d=\"M1244.57 598.107 L1244.57 1374.46 L1265.89 1374.46 L1265.89 598.107 L1244.57 598.107 L1244.57 598.107  Z\" fill=\"#009af9\" fill-rule=\"evenodd\" fill-opacity=\"1\"/>\n<polyline clip-path=\"url(#clip802)\" style=\"stroke:#000000; stroke-linecap:round; stroke-linejoin:round; stroke-width:4; stroke-opacity:1; fill:none\" points=\"1244.57,598.107 1244.57,1374.46 1265.89,1374.46 1265.89,598.107 1244.57,598.107 \"/>\n<path clip-path=\"url(#clip802)\" d=\"M1265.89 501.858 L1265.89 1374.46 L1287.2 1374.46 L1287.2 501.858 L1265.89 501.858 L1265.89 501.858  Z\" fill=\"#009af9\" fill-rule=\"evenodd\" fill-opacity=\"1\"/>\n<polyline clip-path=\"url(#clip802)\" style=\"stroke:#000000; stroke-linecap:round; stroke-linejoin:round; stroke-width:4; stroke-opacity:1; fill:none\" points=\"1265.89,501.858 1265.89,1374.46 1287.2,1374.46 1287.2,501.858 1265.89,501.858 \"/>\n<path clip-path=\"url(#clip802)\" d=\"M1287.2 429.893 L1287.2 1374.46 L1308.51 1374.46 L1308.51 429.893 L1287.2 429.893 L1287.2 429.893  Z\" fill=\"#009af9\" fill-rule=\"evenodd\" fill-opacity=\"1\"/>\n<polyline clip-path=\"url(#clip802)\" style=\"stroke:#000000; stroke-linecap:round; stroke-linejoin:round; stroke-width:4; stroke-opacity:1; fill:none\" points=\"1287.2,429.893 1287.2,1374.46 1308.51,1374.46 1308.51,429.893 1287.2,429.893 \"/>\n<path clip-path=\"url(#clip802)\" d=\"M1308.51 369.237 L1308.51 1374.46 L1329.82 1374.46 L1329.82 369.237 L1308.51 369.237 L1308.51 369.237  Z\" fill=\"#009af9\" fill-rule=\"evenodd\" fill-opacity=\"1\"/>\n<polyline clip-path=\"url(#clip802)\" style=\"stroke:#000000; stroke-linecap:round; stroke-linejoin:round; stroke-width:4; stroke-opacity:1; fill:none\" points=\"1308.51,369.237 1308.51,1374.46 1329.82,1374.46 1329.82,369.237 1308.51,369.237 \"/>\n<path clip-path=\"url(#clip802)\" d=\"M1329.82 354.946 L1329.82 1374.46 L1351.13 1374.46 L1351.13 354.946 L1329.82 354.946 L1329.82 354.946  Z\" fill=\"#009af9\" fill-rule=\"evenodd\" fill-opacity=\"1\"/>\n<polyline clip-path=\"url(#clip802)\" style=\"stroke:#000000; stroke-linecap:round; stroke-linejoin:round; stroke-width:4; stroke-opacity:1; fill:none\" points=\"1329.82,354.946 1329.82,1374.46 1351.13,1374.46 1351.13,354.946 1329.82,354.946 \"/>\n<path clip-path=\"url(#clip802)\" d=\"M1351.13 319.78 L1351.13 1374.46 L1372.44 1374.46 L1372.44 319.78 L1351.13 319.78 L1351.13 319.78  Z\" fill=\"#009af9\" fill-rule=\"evenodd\" fill-opacity=\"1\"/>\n<polyline clip-path=\"url(#clip802)\" style=\"stroke:#000000; stroke-linecap:round; stroke-linejoin:round; stroke-width:4; stroke-opacity:1; fill:none\" points=\"1351.13,319.78 1351.13,1374.46 1372.44,1374.46 1372.44,319.78 1351.13,319.78 \"/>\n<path clip-path=\"url(#clip802)\" d=\"M1372.44 303.712 L1372.44 1374.46 L1393.75 1374.46 L1393.75 303.712 L1372.44 303.712 L1372.44 303.712  Z\" fill=\"#009af9\" fill-rule=\"evenodd\" fill-opacity=\"1\"/>\n<polyline clip-path=\"url(#clip802)\" style=\"stroke:#000000; stroke-linecap:round; stroke-linejoin:round; stroke-width:4; stroke-opacity:1; fill:none\" points=\"1372.44,303.712 1372.44,1374.46 1393.75,1374.46 1393.75,303.712 1372.44,303.712 \"/>\n<path clip-path=\"url(#clip802)\" d=\"M1393.75 293.12 L1393.75 1374.46 L1415.06 1374.46 L1415.06 293.12 L1393.75 293.12 L1393.75 293.12  Z\" fill=\"#009af9\" fill-rule=\"evenodd\" fill-opacity=\"1\"/>\n<polyline clip-path=\"url(#clip802)\" style=\"stroke:#000000; stroke-linecap:round; stroke-linejoin:round; stroke-width:4; stroke-opacity:1; fill:none\" points=\"1393.75,293.12 1393.75,1374.46 1415.06,1374.46 1415.06,293.12 1393.75,293.12 \"/>\n<path clip-path=\"url(#clip802)\" d=\"M1415.06 303.837 L1415.06 1374.46 L1436.37 1374.46 L1436.37 303.837 L1415.06 303.837 L1415.06 303.837  Z\" fill=\"#009af9\" fill-rule=\"evenodd\" fill-opacity=\"1\"/>\n<polyline clip-path=\"url(#clip802)\" style=\"stroke:#000000; stroke-linecap:round; stroke-linejoin:round; stroke-width:4; stroke-opacity:1; fill:none\" points=\"1415.06,303.837 1415.06,1374.46 1436.37,1374.46 1436.37,303.837 1415.06,303.837 \"/>\n<path clip-path=\"url(#clip802)\" d=\"M1436.37 209.404 L1436.37 1374.46 L1457.69 1374.46 L1457.69 209.404 L1436.37 209.404 L1436.37 209.404  Z\" fill=\"#009af9\" fill-rule=\"evenodd\" fill-opacity=\"1\"/>\n<polyline clip-path=\"url(#clip802)\" style=\"stroke:#000000; stroke-linecap:round; stroke-linejoin:round; stroke-width:4; stroke-opacity:1; fill:none\" points=\"1436.37,209.404 1436.37,1374.46 1457.69,1374.46 1457.69,209.404 1436.37,209.404 \"/>\n<path clip-path=\"url(#clip802)\" d=\"M1457.69 195.609 L1457.69 1374.46 L1479 1374.46 L1479 195.609 L1457.69 195.609 L1457.69 195.609  Z\" fill=\"#009af9\" fill-rule=\"evenodd\" fill-opacity=\"1\"/>\n<polyline clip-path=\"url(#clip802)\" style=\"stroke:#000000; stroke-linecap:round; stroke-linejoin:round; stroke-width:4; stroke-opacity:1; fill:none\" points=\"1457.69,195.609 1457.69,1374.46 1479,1374.46 1479,195.609 1457.69,195.609 \"/>\n<path clip-path=\"url(#clip802)\" d=\"M1479 285.334 L1479 1374.46 L1500.31 1374.46 L1500.31 285.334 L1479 285.334 L1479 285.334  Z\" fill=\"#009af9\" fill-rule=\"evenodd\" fill-opacity=\"1\"/>\n<polyline clip-path=\"url(#clip802)\" style=\"stroke:#000000; stroke-linecap:round; stroke-linejoin:round; stroke-width:4; stroke-opacity:1; fill:none\" points=\"1479,285.334 1479,1374.46 1500.31,1374.46 1500.31,285.334 1479,285.334 \"/>\n<path clip-path=\"url(#clip802)\" d=\"M1500.31 215.462 L1500.31 1374.46 L1521.62 1374.46 L1521.62 215.462 L1500.31 215.462 L1500.31 215.462  Z\" fill=\"#009af9\" fill-rule=\"evenodd\" fill-opacity=\"1\"/>\n<polyline clip-path=\"url(#clip802)\" style=\"stroke:#000000; stroke-linecap:round; stroke-linejoin:round; stroke-width:4; stroke-opacity:1; fill:none\" points=\"1500.31,215.462 1500.31,1374.46 1521.62,1374.46 1521.62,215.462 1500.31,215.462 \"/>\n<path clip-path=\"url(#clip802)\" d=\"M1521.62 211.693 L1521.62 1374.46 L1542.93 1374.46 L1542.93 211.693 L1521.62 211.693 L1521.62 211.693  Z\" fill=\"#009af9\" fill-rule=\"evenodd\" fill-opacity=\"1\"/>\n<polyline clip-path=\"url(#clip802)\" style=\"stroke:#000000; stroke-linecap:round; stroke-linejoin:round; stroke-width:4; stroke-opacity:1; fill:none\" points=\"1521.62,211.693 1521.62,1374.46 1542.93,1374.46 1542.93,211.693 1521.62,211.693 \"/>\n<path clip-path=\"url(#clip802)\" d=\"M1542.93 221.969 L1542.93 1374.46 L1564.24 1374.46 L1564.24 221.969 L1542.93 221.969 L1542.93 221.969  Z\" fill=\"#009af9\" fill-rule=\"evenodd\" fill-opacity=\"1\"/>\n<polyline clip-path=\"url(#clip802)\" style=\"stroke:#000000; stroke-linecap:round; stroke-linejoin:round; stroke-width:4; stroke-opacity:1; fill:none\" points=\"1542.93,221.969 1542.93,1374.46 1564.24,1374.46 1564.24,221.969 1542.93,221.969 \"/>\n<path clip-path=\"url(#clip802)\" d=\"M1564.24 244.884 L1564.24 1374.46 L1585.55 1374.46 L1585.55 244.884 L1564.24 244.884 L1564.24 244.884  Z\" fill=\"#009af9\" fill-rule=\"evenodd\" fill-opacity=\"1\"/>\n<polyline clip-path=\"url(#clip802)\" style=\"stroke:#000000; stroke-linecap:round; stroke-linejoin:round; stroke-width:4; stroke-opacity:1; fill:none\" points=\"1564.24,244.884 1564.24,1374.46 1585.55,1374.46 1585.55,244.884 1564.24,244.884 \"/>\n<path clip-path=\"url(#clip802)\" d=\"M1585.55 204.632 L1585.55 1374.46 L1606.86 1374.46 L1606.86 204.632 L1585.55 204.632 L1585.55 204.632  Z\" fill=\"#009af9\" fill-rule=\"evenodd\" fill-opacity=\"1\"/>\n<polyline clip-path=\"url(#clip802)\" style=\"stroke:#000000; stroke-linecap:round; stroke-linejoin:round; stroke-width:4; stroke-opacity:1; fill:none\" points=\"1585.55,204.632 1585.55,1374.46 1606.86,1374.46 1606.86,204.632 1585.55,204.632 \"/>\n<path clip-path=\"url(#clip802)\" d=\"M1606.86 416.239 L1606.86 1374.46 L1628.18 1374.46 L1628.18 416.239 L1606.86 416.239 L1606.86 416.239  Z\" fill=\"#009af9\" fill-rule=\"evenodd\" fill-opacity=\"1\"/>\n<polyline clip-path=\"url(#clip802)\" style=\"stroke:#000000; stroke-linecap:round; stroke-linejoin:round; stroke-width:4; stroke-opacity:1; fill:none\" points=\"1606.86,416.239 1606.86,1374.46 1628.18,1374.46 1628.18,416.239 1606.86,416.239 \"/>\n<path clip-path=\"url(#clip802)\" d=\"M1628.18 423.118 L1628.18 1374.46 L1649.49 1374.46 L1649.49 423.118 L1628.18 423.118 L1628.18 423.118  Z\" fill=\"#009af9\" fill-rule=\"evenodd\" fill-opacity=\"1\"/>\n<polyline clip-path=\"url(#clip802)\" style=\"stroke:#000000; stroke-linecap:round; stroke-linejoin:round; stroke-width:4; stroke-opacity:1; fill:none\" points=\"1628.18,423.118 1628.18,1374.46 1649.49,1374.46 1649.49,423.118 1628.18,423.118 \"/>\n<path clip-path=\"url(#clip802)\" d=\"M1649.49 408.753 L1649.49 1374.46 L1670.8 1374.46 L1670.8 408.753 L1649.49 408.753 L1649.49 408.753  Z\" fill=\"#009af9\" fill-rule=\"evenodd\" fill-opacity=\"1\"/>\n<polyline clip-path=\"url(#clip802)\" style=\"stroke:#000000; stroke-linecap:round; stroke-linejoin:round; stroke-width:4; stroke-opacity:1; fill:none\" points=\"1649.49,408.753 1649.49,1374.46 1670.8,1374.46 1670.8,408.753 1649.49,408.753 \"/>\n<path clip-path=\"url(#clip802)\" d=\"M1670.8 536.718 L1670.8 1374.46 L1692.11 1374.46 L1692.11 536.718 L1670.8 536.718 L1670.8 536.718  Z\" fill=\"#009af9\" fill-rule=\"evenodd\" fill-opacity=\"1\"/>\n<polyline clip-path=\"url(#clip802)\" style=\"stroke:#000000; stroke-linecap:round; stroke-linejoin:round; stroke-width:4; stroke-opacity:1; fill:none\" points=\"1670.8,536.718 1670.8,1374.46 1692.11,1374.46 1692.11,536.718 1670.8,536.718 \"/>\n<path clip-path=\"url(#clip802)\" d=\"M1692.11 773.103 L1692.11 1374.46 L1713.42 1374.46 L1713.42 773.103 L1692.11 773.103 L1692.11 773.103  Z\" fill=\"#009af9\" fill-rule=\"evenodd\" fill-opacity=\"1\"/>\n<polyline clip-path=\"url(#clip802)\" style=\"stroke:#000000; stroke-linecap:round; stroke-linejoin:round; stroke-width:4; stroke-opacity:1; fill:none\" points=\"1692.11,773.103 1692.11,1374.46 1713.42,1374.46 1713.42,773.103 1692.11,773.103 \"/>\n<path clip-path=\"url(#clip802)\" d=\"M1713.42 823.153 L1713.42 1374.46 L1734.73 1374.46 L1734.73 823.153 L1713.42 823.153 L1713.42 823.153  Z\" fill=\"#009af9\" fill-rule=\"evenodd\" fill-opacity=\"1\"/>\n<polyline clip-path=\"url(#clip802)\" style=\"stroke:#000000; stroke-linecap:round; stroke-linejoin:round; stroke-width:4; stroke-opacity:1; fill:none\" points=\"1713.42,823.153 1713.42,1374.46 1734.73,1374.46 1734.73,823.153 1713.42,823.153 \"/>\n<path clip-path=\"url(#clip802)\" d=\"M1734.73 902.177 L1734.73 1374.46 L1756.04 1374.46 L1756.04 902.177 L1734.73 902.177 L1734.73 902.177  Z\" fill=\"#009af9\" fill-rule=\"evenodd\" fill-opacity=\"1\"/>\n<polyline clip-path=\"url(#clip802)\" style=\"stroke:#000000; stroke-linecap:round; stroke-linejoin:round; stroke-width:4; stroke-opacity:1; fill:none\" points=\"1734.73,902.177 1734.73,1374.46 1756.04,1374.46 1756.04,902.177 1734.73,902.177 \"/>\n<path clip-path=\"url(#clip802)\" d=\"M1756.04 933.162 L1756.04 1374.46 L1777.35 1374.46 L1777.35 933.162 L1756.04 933.162 L1756.04 933.162  Z\" fill=\"#009af9\" fill-rule=\"evenodd\" fill-opacity=\"1\"/>\n<polyline clip-path=\"url(#clip802)\" style=\"stroke:#000000; stroke-linecap:round; stroke-linejoin:round; stroke-width:4; stroke-opacity:1; fill:none\" points=\"1756.04,933.162 1756.04,1374.46 1777.35,1374.46 1777.35,933.162 1756.04,933.162 \"/>\n<path clip-path=\"url(#clip802)\" d=\"M1777.35 951.704 L1777.35 1374.46 L1798.67 1374.46 L1798.67 951.704 L1777.35 951.704 L1777.35 951.704  Z\" fill=\"#009af9\" fill-rule=\"evenodd\" fill-opacity=\"1\"/>\n<polyline clip-path=\"url(#clip802)\" style=\"stroke:#000000; stroke-linecap:round; stroke-linejoin:round; stroke-width:4; stroke-opacity:1; fill:none\" points=\"1777.35,951.704 1777.35,1374.46 1798.67,1374.46 1798.67,951.704 1777.35,951.704 \"/>\n<path clip-path=\"url(#clip802)\" d=\"M1798.67 1069.36 L1798.67 1374.46 L1819.98 1374.46 L1819.98 1069.36 L1798.67 1069.36 L1798.67 1069.36  Z\" fill=\"#009af9\" fill-rule=\"evenodd\" fill-opacity=\"1\"/>\n<polyline clip-path=\"url(#clip802)\" style=\"stroke:#000000; stroke-linecap:round; stroke-linejoin:round; stroke-width:4; stroke-opacity:1; fill:none\" points=\"1798.67,1069.36 1798.67,1374.46 1819.98,1374.46 1819.98,1069.36 1798.67,1069.36 \"/>\n<path clip-path=\"url(#clip802)\" d=\"M1819.98 1085.71 L1819.98 1374.46 L1841.29 1374.46 L1841.29 1085.71 L1819.98 1085.71 L1819.98 1085.71  Z\" fill=\"#009af9\" fill-rule=\"evenodd\" fill-opacity=\"1\"/>\n<polyline clip-path=\"url(#clip802)\" style=\"stroke:#000000; stroke-linecap:round; stroke-linejoin:round; stroke-width:4; stroke-opacity:1; fill:none\" points=\"1819.98,1085.71 1819.98,1374.46 1841.29,1374.46 1841.29,1085.71 1819.98,1085.71 \"/>\n<path clip-path=\"url(#clip802)\" d=\"M1841.29 1125.66 L1841.29 1374.46 L1862.6 1374.46 L1862.6 1125.66 L1841.29 1125.66 L1841.29 1125.66  Z\" fill=\"#009af9\" fill-rule=\"evenodd\" fill-opacity=\"1\"/>\n<polyline clip-path=\"url(#clip802)\" style=\"stroke:#000000; stroke-linecap:round; stroke-linejoin:round; stroke-width:4; stroke-opacity:1; fill:none\" points=\"1841.29,1125.66 1841.29,1374.46 1862.6,1374.46 1862.6,1125.66 1841.29,1125.66 \"/>\n<path clip-path=\"url(#clip802)\" d=\"M1862.6 1085.71 L1862.6 1374.46 L1883.91 1374.46 L1883.91 1085.71 L1862.6 1085.71 L1862.6 1085.71  Z\" fill=\"#009af9\" fill-rule=\"evenodd\" fill-opacity=\"1\"/>\n<polyline clip-path=\"url(#clip802)\" style=\"stroke:#000000; stroke-linecap:round; stroke-linejoin:round; stroke-width:4; stroke-opacity:1; fill:none\" points=\"1862.6,1085.71 1862.6,1374.46 1883.91,1374.46 1883.91,1085.71 1862.6,1085.71 \"/>\n<path clip-path=\"url(#clip802)\" d=\"M1883.91 1278.21 L1883.91 1374.46 L1905.22 1374.46 L1905.22 1278.21 L1883.91 1278.21 L1883.91 1278.21  Z\" fill=\"#009af9\" fill-rule=\"evenodd\" fill-opacity=\"1\"/>\n<polyline clip-path=\"url(#clip802)\" style=\"stroke:#000000; stroke-linecap:round; stroke-linejoin:round; stroke-width:4; stroke-opacity:1; fill:none\" points=\"1883.91,1278.21 1883.91,1374.46 1905.22,1374.46 1905.22,1278.21 1883.91,1278.21 \"/>\n<path clip-path=\"url(#clip802)\" d=\"M1905.22 1278.21 L1905.22 1374.46 L1926.53 1374.46 L1926.53 1278.21 L1905.22 1278.21 L1905.22 1278.21  Z\" fill=\"#009af9\" fill-rule=\"evenodd\" fill-opacity=\"1\"/>\n<polyline clip-path=\"url(#clip802)\" style=\"stroke:#000000; stroke-linecap:round; stroke-linejoin:round; stroke-width:4; stroke-opacity:1; fill:none\" points=\"1905.22,1278.21 1905.22,1374.46 1926.53,1374.46 1926.53,1278.21 1905.22,1278.21 \"/>\n<path clip-path=\"url(#clip802)\" d=\"M1926.53 1374.46 L1926.53 1374.46 L1947.84 1374.46 L1947.84 1374.46 L1926.53 1374.46 L1926.53 1374.46  Z\" fill=\"#009af9\" fill-rule=\"evenodd\" fill-opacity=\"1\"/>\n<polyline clip-path=\"url(#clip802)\" style=\"stroke:#000000; stroke-linecap:round; stroke-linejoin:round; stroke-width:4; stroke-opacity:1; fill:none\" points=\"1926.53,1374.46 1926.53,1374.46 1947.84,1374.46 1926.53,1374.46 \"/>\n<path clip-path=\"url(#clip802)\" d=\"M1969.15 1374.46 L1969.15 1374.46 L1990.47 1374.46 L1990.47 1374.46 L1969.15 1374.46 L1969.15 1374.46  Z\" fill=\"#009af9\" fill-rule=\"evenodd\" fill-opacity=\"1\"/>\n<polyline clip-path=\"url(#clip802)\" style=\"stroke:#000000; stroke-linecap:round; stroke-linejoin:round; stroke-width:4; stroke-opacity:1; fill:none\" points=\"1969.15,1374.46 1969.15,1374.46 1990.47,1374.46 1969.15,1374.46 \"/>\n<path clip-path=\"url(#clip802)\" d=\"M1990.47 1374.46 L1990.47 1374.46 L2011.78 1374.46 L2011.78 1374.46 L1990.47 1374.46 L1990.47 1374.46  Z\" fill=\"#009af9\" fill-rule=\"evenodd\" fill-opacity=\"1\"/>\n<polyline clip-path=\"url(#clip802)\" style=\"stroke:#000000; stroke-linecap:round; stroke-linejoin:round; stroke-width:4; stroke-opacity:1; fill:none\" points=\"1990.47,1374.46 1990.47,1374.46 2011.78,1374.46 1990.47,1374.46 \"/>\n<path clip-path=\"url(#clip802)\" d=\"M2011.78 1374.46 L2011.78 1374.46 L2033.09 1374.46 L2033.09 1374.46 L2011.78 1374.46 L2011.78 1374.46  Z\" fill=\"#009af9\" fill-rule=\"evenodd\" fill-opacity=\"1\"/>\n<polyline clip-path=\"url(#clip802)\" style=\"stroke:#000000; stroke-linecap:round; stroke-linejoin:round; stroke-width:4; stroke-opacity:1; fill:none\" points=\"2011.78,1374.46 2011.78,1374.46 2033.09,1374.46 2011.78,1374.46 \"/>\n<path clip-path=\"url(#clip802)\" d=\"M2033.09 1374.46 L2033.09 1374.46 L2054.4 1374.46 L2054.4 1374.46 L2033.09 1374.46 L2033.09 1374.46  Z\" fill=\"#009af9\" fill-rule=\"evenodd\" fill-opacity=\"1\"/>\n<polyline clip-path=\"url(#clip802)\" style=\"stroke:#000000; stroke-linecap:round; stroke-linejoin:round; stroke-width:4; stroke-opacity:1; fill:none\" points=\"2033.09,1374.46 2033.09,1374.46 2054.4,1374.46 2033.09,1374.46 \"/>\n<path clip-path=\"url(#clip802)\" d=\"M2054.4 1374.46 L2054.4 1374.46 L2075.71 1374.46 L2075.71 1374.46 L2054.4 1374.46 L2054.4 1374.46  Z\" fill=\"#009af9\" fill-rule=\"evenodd\" fill-opacity=\"1\"/>\n<polyline clip-path=\"url(#clip802)\" style=\"stroke:#000000; stroke-linecap:round; stroke-linejoin:round; stroke-width:4; stroke-opacity:1; fill:none\" points=\"2054.4,1374.46 2054.4,1374.46 2075.71,1374.46 2054.4,1374.46 \"/>\n<path clip-path=\"url(#clip802)\" d=\"M2075.71 1221.91 L2075.71 1374.46 L2097.02 1374.46 L2097.02 1221.91 L2075.71 1221.91 L2075.71 1221.91  Z\" fill=\"#009af9\" fill-rule=\"evenodd\" fill-opacity=\"1\"/>\n<polyline clip-path=\"url(#clip802)\" style=\"stroke:#000000; stroke-linecap:round; stroke-linejoin:round; stroke-width:4; stroke-opacity:1; fill:none\" points=\"2075.71,1221.91 2075.71,1374.46 2097.02,1374.46 2097.02,1221.91 2075.71,1221.91 \"/>\n<path clip-path=\"url(#clip802)\" d=\"M2203.58 1374.46 L2203.58 1374.46 L2224.89 1374.46 L2224.89 1374.46 L2203.58 1374.46 L2203.58 1374.46  Z\" fill=\"#009af9\" fill-rule=\"evenodd\" fill-opacity=\"1\"/>\n<polyline clip-path=\"url(#clip802)\" style=\"stroke:#000000; stroke-linecap:round; stroke-linejoin:round; stroke-width:4; stroke-opacity:1; fill:none\" points=\"2203.58,1374.46 2203.58,1374.46 2224.89,1374.46 2203.58,1374.46 \"/>\n<path clip-path=\"url(#clip802)\" d=\"M2224.89 911.757 L2224.89 1374.46 L2246.2 1374.46 L2246.2 911.757 L2224.89 911.757 L2224.89 911.757  Z\" fill=\"#009af9\" fill-rule=\"evenodd\" fill-opacity=\"1\"/>\n<polyline clip-path=\"url(#clip802)\" style=\"stroke:#000000; stroke-linecap:round; stroke-linejoin:round; stroke-width:4; stroke-opacity:1; fill:none\" points=\"2224.89,911.757 2224.89,1374.46 2246.2,1374.46 2246.2,911.757 2224.89,911.757 \"/>\n<path clip-path=\"url(#clip802)\" d=\"M2267.51 1221.91 L2267.51 1374.46 L2288.82 1374.46 L2288.82 1221.91 L2267.51 1221.91 L2267.51 1221.91  Z\" fill=\"#009af9\" fill-rule=\"evenodd\" fill-opacity=\"1\"/>\n<polyline clip-path=\"url(#clip802)\" style=\"stroke:#000000; stroke-linecap:round; stroke-linejoin:round; stroke-width:4; stroke-opacity:1; fill:none\" points=\"2267.51,1221.91 2267.51,1374.46 2288.82,1374.46 2288.82,1221.91 2267.51,1221.91 \"/>\n<path clip-path=\"url(#clip802)\" d=\"M2288.82 927.493 L2288.82 1374.46 L2310.13 1374.46 L2310.13 927.493 L2288.82 927.493 L2288.82 927.493  Z\" fill=\"#009af9\" fill-rule=\"evenodd\" fill-opacity=\"1\"/>\n<polyline clip-path=\"url(#clip802)\" style=\"stroke:#000000; stroke-linecap:round; stroke-linejoin:round; stroke-width:4; stroke-opacity:1; fill:none\" points=\"2288.82,927.493 2288.82,1374.46 2310.13,1374.46 2310.13,927.493 2288.82,927.493 \"/>\n<path clip-path=\"url(#clip802)\" d=\"M2310.13 1374.46 L2310.13 1374.46 L2331.44 1374.46 L2331.44 1374.46 L2310.13 1374.46 L2310.13 1374.46  Z\" fill=\"#009af9\" fill-rule=\"evenodd\" fill-opacity=\"1\"/>\n<polyline clip-path=\"url(#clip802)\" style=\"stroke:#000000; stroke-linecap:round; stroke-linejoin:round; stroke-width:4; stroke-opacity:1; fill:none\" points=\"2310.13,1374.46 2310.13,1374.46 2331.44,1374.46 2310.13,1374.46 \"/>\n<circle clip-path=\"url(#clip802)\" style=\"fill:#009af9; stroke:none; fill-opacity:0\" cx=\"360.466\" cy=\"159.909\" r=\"2\"/>\n<circle clip-path=\"url(#clip802)\" style=\"fill:#009af9; stroke:none; fill-opacity:0\" cx=\"488.333\" cy=\"241.307\" r=\"2\"/>\n<circle clip-path=\"url(#clip802)\" style=\"fill:#009af9; stroke:none; fill-opacity:0\" cx=\"552.267\" cy=\"286.977\" r=\"2\"/>\n<circle clip-path=\"url(#clip802)\" style=\"fill:#009af9; stroke:none; fill-opacity:0\" cx=\"616.201\" cy=\"294.801\" r=\"2\"/>\n<circle clip-path=\"url(#clip802)\" style=\"fill:#009af9; stroke:none; fill-opacity:0\" cx=\"658.823\" cy=\"307.366\" r=\"2\"/>\n<circle clip-path=\"url(#clip802)\" style=\"fill:#009af9; stroke:none; fill-opacity:0\" cx=\"680.134\" cy=\"327.164\" r=\"2\"/>\n<circle clip-path=\"url(#clip802)\" style=\"fill:#009af9; stroke:none; fill-opacity:0\" cx=\"701.445\" cy=\"338.113\" r=\"2\"/>\n<circle clip-path=\"url(#clip802)\" style=\"fill:#009af9; stroke:none; fill-opacity:0\" cx=\"744.068\" cy=\"349.913\" r=\"2\"/>\n<circle clip-path=\"url(#clip802)\" style=\"fill:#009af9; stroke:none; fill-opacity:0\" cx=\"765.379\" cy=\"363.095\" r=\"2\"/>\n<circle clip-path=\"url(#clip802)\" style=\"fill:#009af9; stroke:none; fill-opacity:0\" cx=\"786.69\" cy=\"285.77\" r=\"2\"/>\n<circle clip-path=\"url(#clip802)\" style=\"fill:#009af9; stroke:none; fill-opacity:0\" cx=\"808.001\" cy=\"410.755\" r=\"2\"/>\n<circle clip-path=\"url(#clip802)\" style=\"fill:#009af9; stroke:none; fill-opacity:0\" cx=\"829.312\" cy=\"291.687\" r=\"2\"/>\n<circle clip-path=\"url(#clip802)\" style=\"fill:#009af9; stroke:none; fill-opacity:0\" cx=\"850.624\" cy=\"430.822\" r=\"2\"/>\n<circle clip-path=\"url(#clip802)\" style=\"fill:#009af9; stroke:none; fill-opacity:0\" cx=\"871.935\" cy=\"367.454\" r=\"2\"/>\n<circle clip-path=\"url(#clip802)\" style=\"fill:#009af9; stroke:none; fill-opacity:0\" cx=\"893.246\" cy=\"392.87\" r=\"2\"/>\n<circle clip-path=\"url(#clip802)\" style=\"fill:#009af9; stroke:none; fill-opacity:0\" cx=\"914.557\" cy=\"364.533\" r=\"2\"/>\n<circle clip-path=\"url(#clip802)\" style=\"fill:#009af9; stroke:none; fill-opacity:0\" cx=\"935.868\" cy=\"393.225\" r=\"2\"/>\n<circle clip-path=\"url(#clip802)\" style=\"fill:#009af9; stroke:none; fill-opacity:0\" cx=\"957.18\" cy=\"417.221\" r=\"2\"/>\n<circle clip-path=\"url(#clip802)\" style=\"fill:#009af9; stroke:none; fill-opacity:0\" cx=\"978.491\" cy=\"431.133\" r=\"2\"/>\n<circle clip-path=\"url(#clip802)\" style=\"fill:#009af9; stroke:none; fill-opacity:0\" cx=\"999.802\" cy=\"412.922\" r=\"2\"/>\n<circle clip-path=\"url(#clip802)\" style=\"fill:#009af9; stroke:none; fill-opacity:0\" cx=\"1021.11\" cy=\"431.914\" r=\"2\"/>\n<circle clip-path=\"url(#clip802)\" style=\"fill:#009af9; stroke:none; fill-opacity:0\" cx=\"1042.42\" cy=\"459.726\" r=\"2\"/>\n<circle clip-path=\"url(#clip802)\" style=\"fill:#009af9; stroke:none; fill-opacity:0\" cx=\"1063.74\" cy=\"466.386\" r=\"2\"/>\n<circle clip-path=\"url(#clip802)\" style=\"fill:#009af9; stroke:none; fill-opacity:0\" cx=\"1085.05\" cy=\"465.986\" r=\"2\"/>\n<circle clip-path=\"url(#clip802)\" style=\"fill:#009af9; stroke:none; fill-opacity:0\" cx=\"1106.36\" cy=\"503.683\" r=\"2\"/>\n<circle clip-path=\"url(#clip802)\" style=\"fill:#009af9; stroke:none; fill-opacity:0\" cx=\"1127.67\" cy=\"436.045\" r=\"2\"/>\n<circle clip-path=\"url(#clip802)\" style=\"fill:#009af9; stroke:none; fill-opacity:0\" cx=\"1148.98\" cy=\"437.504\" r=\"2\"/>\n<circle clip-path=\"url(#clip802)\" style=\"fill:#009af9; stroke:none; fill-opacity:0\" cx=\"1170.29\" cy=\"484.128\" r=\"2\"/>\n<circle clip-path=\"url(#clip802)\" style=\"fill:#009af9; stroke:none; fill-opacity:0\" cx=\"1191.6\" cy=\"472.331\" r=\"2\"/>\n<circle clip-path=\"url(#clip802)\" style=\"fill:#009af9; stroke:none; fill-opacity:0\" cx=\"1212.91\" cy=\"408.488\" r=\"2\"/>\n<circle clip-path=\"url(#clip802)\" style=\"fill:#009af9; stroke:none; fill-opacity:0\" cx=\"1234.23\" cy=\"506.066\" r=\"2\"/>\n<circle clip-path=\"url(#clip802)\" style=\"fill:#009af9; stroke:none; fill-opacity:0\" cx=\"1255.54\" cy=\"598.107\" r=\"2\"/>\n<circle clip-path=\"url(#clip802)\" style=\"fill:#009af9; stroke:none; fill-opacity:0\" cx=\"1276.85\" cy=\"501.858\" r=\"2\"/>\n<circle clip-path=\"url(#clip802)\" style=\"fill:#009af9; stroke:none; fill-opacity:0\" cx=\"1298.16\" cy=\"429.893\" r=\"2\"/>\n<circle clip-path=\"url(#clip802)\" style=\"fill:#009af9; stroke:none; fill-opacity:0\" cx=\"1319.47\" cy=\"369.237\" r=\"2\"/>\n<circle clip-path=\"url(#clip802)\" style=\"fill:#009af9; stroke:none; fill-opacity:0\" cx=\"1340.78\" cy=\"354.946\" r=\"2\"/>\n<circle clip-path=\"url(#clip802)\" style=\"fill:#009af9; stroke:none; fill-opacity:0\" cx=\"1362.09\" cy=\"319.78\" r=\"2\"/>\n<circle clip-path=\"url(#clip802)\" style=\"fill:#009af9; stroke:none; fill-opacity:0\" cx=\"1383.4\" cy=\"303.712\" r=\"2\"/>\n<circle clip-path=\"url(#clip802)\" style=\"fill:#009af9; stroke:none; fill-opacity:0\" cx=\"1404.71\" cy=\"293.12\" r=\"2\"/>\n<circle clip-path=\"url(#clip802)\" style=\"fill:#009af9; stroke:none; fill-opacity:0\" cx=\"1426.03\" cy=\"303.837\" r=\"2\"/>\n<circle clip-path=\"url(#clip802)\" style=\"fill:#009af9; stroke:none; fill-opacity:0\" cx=\"1447.34\" cy=\"209.404\" r=\"2\"/>\n<circle clip-path=\"url(#clip802)\" style=\"fill:#009af9; stroke:none; fill-opacity:0\" cx=\"1468.65\" cy=\"195.609\" r=\"2\"/>\n<circle clip-path=\"url(#clip802)\" style=\"fill:#009af9; stroke:none; fill-opacity:0\" cx=\"1489.96\" cy=\"285.334\" r=\"2\"/>\n<circle clip-path=\"url(#clip802)\" style=\"fill:#009af9; stroke:none; fill-opacity:0\" cx=\"1511.27\" cy=\"215.462\" r=\"2\"/>\n<circle clip-path=\"url(#clip802)\" style=\"fill:#009af9; stroke:none; fill-opacity:0\" cx=\"1532.58\" cy=\"211.693\" r=\"2\"/>\n<circle clip-path=\"url(#clip802)\" style=\"fill:#009af9; stroke:none; fill-opacity:0\" cx=\"1553.89\" cy=\"221.969\" r=\"2\"/>\n<circle clip-path=\"url(#clip802)\" style=\"fill:#009af9; stroke:none; fill-opacity:0\" cx=\"1575.2\" cy=\"244.884\" r=\"2\"/>\n<circle clip-path=\"url(#clip802)\" style=\"fill:#009af9; stroke:none; fill-opacity:0\" cx=\"1596.52\" cy=\"204.632\" r=\"2\"/>\n<circle clip-path=\"url(#clip802)\" style=\"fill:#009af9; stroke:none; fill-opacity:0\" cx=\"1617.83\" cy=\"416.239\" r=\"2\"/>\n<circle clip-path=\"url(#clip802)\" style=\"fill:#009af9; stroke:none; fill-opacity:0\" cx=\"1639.14\" cy=\"423.118\" r=\"2\"/>\n<circle clip-path=\"url(#clip802)\" style=\"fill:#009af9; stroke:none; fill-opacity:0\" cx=\"1660.45\" cy=\"408.753\" r=\"2\"/>\n<circle clip-path=\"url(#clip802)\" style=\"fill:#009af9; stroke:none; fill-opacity:0\" cx=\"1681.76\" cy=\"536.718\" r=\"2\"/>\n<circle clip-path=\"url(#clip802)\" style=\"fill:#009af9; stroke:none; fill-opacity:0\" cx=\"1703.07\" cy=\"773.103\" r=\"2\"/>\n<circle clip-path=\"url(#clip802)\" style=\"fill:#009af9; stroke:none; fill-opacity:0\" cx=\"1724.38\" cy=\"823.153\" r=\"2\"/>\n<circle clip-path=\"url(#clip802)\" style=\"fill:#009af9; stroke:none; fill-opacity:0\" cx=\"1745.69\" cy=\"902.177\" r=\"2\"/>\n<circle clip-path=\"url(#clip802)\" style=\"fill:#009af9; stroke:none; fill-opacity:0\" cx=\"1767\" cy=\"933.162\" r=\"2\"/>\n<circle clip-path=\"url(#clip802)\" style=\"fill:#009af9; stroke:none; fill-opacity:0\" cx=\"1788.32\" cy=\"951.704\" r=\"2\"/>\n<circle clip-path=\"url(#clip802)\" style=\"fill:#009af9; stroke:none; fill-opacity:0\" cx=\"1809.63\" cy=\"1069.36\" r=\"2\"/>\n<circle clip-path=\"url(#clip802)\" style=\"fill:#009af9; stroke:none; fill-opacity:0\" cx=\"1830.94\" cy=\"1085.71\" r=\"2\"/>\n<circle clip-path=\"url(#clip802)\" style=\"fill:#009af9; stroke:none; fill-opacity:0\" cx=\"1852.25\" cy=\"1125.66\" r=\"2\"/>\n<circle clip-path=\"url(#clip802)\" style=\"fill:#009af9; stroke:none; fill-opacity:0\" cx=\"1873.56\" cy=\"1085.71\" r=\"2\"/>\n<circle clip-path=\"url(#clip802)\" style=\"fill:#009af9; stroke:none; fill-opacity:0\" cx=\"1894.87\" cy=\"1278.21\" r=\"2\"/>\n<circle clip-path=\"url(#clip802)\" style=\"fill:#009af9; stroke:none; fill-opacity:0\" cx=\"1916.18\" cy=\"1278.21\" r=\"2\"/>\n<circle clip-path=\"url(#clip802)\" style=\"fill:#009af9; stroke:none; fill-opacity:0\" cx=\"1937.49\" cy=\"1374.46\" r=\"2\"/>\n<circle clip-path=\"url(#clip802)\" style=\"fill:#009af9; stroke:none; fill-opacity:0\" cx=\"1980.12\" cy=\"1374.46\" r=\"2\"/>\n<circle clip-path=\"url(#clip802)\" style=\"fill:#009af9; stroke:none; fill-opacity:0\" cx=\"2001.43\" cy=\"1374.46\" r=\"2\"/>\n<circle clip-path=\"url(#clip802)\" style=\"fill:#009af9; stroke:none; fill-opacity:0\" cx=\"2022.74\" cy=\"1374.46\" r=\"2\"/>\n<circle clip-path=\"url(#clip802)\" style=\"fill:#009af9; stroke:none; fill-opacity:0\" cx=\"2044.05\" cy=\"1374.46\" r=\"2\"/>\n<circle clip-path=\"url(#clip802)\" style=\"fill:#009af9; stroke:none; fill-opacity:0\" cx=\"2065.36\" cy=\"1374.46\" r=\"2\"/>\n<circle clip-path=\"url(#clip802)\" style=\"fill:#009af9; stroke:none; fill-opacity:0\" cx=\"2086.67\" cy=\"1221.91\" r=\"2\"/>\n<circle clip-path=\"url(#clip802)\" style=\"fill:#009af9; stroke:none; fill-opacity:0\" cx=\"2214.54\" cy=\"1374.46\" r=\"2\"/>\n<circle clip-path=\"url(#clip802)\" style=\"fill:#009af9; stroke:none; fill-opacity:0\" cx=\"2235.85\" cy=\"911.757\" r=\"2\"/>\n<circle clip-path=\"url(#clip802)\" style=\"fill:#009af9; stroke:none; fill-opacity:0\" cx=\"2278.47\" cy=\"1221.91\" r=\"2\"/>\n<circle clip-path=\"url(#clip802)\" style=\"fill:#009af9; stroke:none; fill-opacity:0\" cx=\"2299.78\" cy=\"927.493\" r=\"2\"/>\n<circle clip-path=\"url(#clip802)\" style=\"fill:#009af9; stroke:none; fill-opacity:0\" cx=\"2321.1\" cy=\"1374.46\" r=\"2\"/>\n<path clip-path=\"url(#clip800)\" d=\"M1778.77 270.066 L2281.72 270.066 L2281.72 166.386 L1778.77 166.386  Z\" fill=\"#ffffff\" fill-rule=\"evenodd\" fill-opacity=\"1\"/>\n<polyline clip-path=\"url(#clip800)\" style=\"stroke:#000000; stroke-linecap:round; stroke-linejoin:round; stroke-width:4; stroke-opacity:1; fill:none\" points=\"1778.77,270.066 2281.72,270.066 2281.72,166.386 1778.77,166.386 1778.77,270.066 \"/>\n<path clip-path=\"url(#clip800)\" d=\"M1802.45 238.962 L1944.52 238.962 L1944.52 197.49 L1802.45 197.49 L1802.45 238.962  Z\" fill=\"#009af9\" fill-rule=\"evenodd\" fill-opacity=\"1\"/>\n<polyline clip-path=\"url(#clip800)\" style=\"stroke:#000000; stroke-linecap:round; stroke-linejoin:round; stroke-width:4; stroke-opacity:1; fill:none\" points=\"1802.45,238.962 1944.52,238.962 1944.52,197.49 1802.45,197.49 1802.45,238.962 \"/>\n<path clip-path=\"url(#clip800)\" d=\"M1968.2 199.488 L1972.46 199.488 L1972.46 235.506 L1968.2 235.506 L1968.2 199.488 Z\" fill=\"#000000\" fill-rule=\"nonzero\" fill-opacity=\"1\" /><path clip-path=\"url(#clip800)\" d=\"M1991.42 212.567 Q1987.99 212.567 1986 215.252 Q1984.01 217.914 1984.01 222.567 Q1984.01 227.219 1985.98 229.904 Q1987.97 232.566 1991.42 232.566 Q1994.82 232.566 1996.81 229.881 Q1998.8 227.196 1998.8 222.567 Q1998.8 217.96 1996.81 215.275 Q1994.82 212.567 1991.42 212.567 M1991.42 208.955 Q1996.98 208.955 2000.15 212.567 Q2003.32 216.178 2003.32 222.567 Q2003.32 228.932 2000.15 232.566 Q1996.98 236.178 1991.42 236.178 Q1985.84 236.178 1982.67 232.566 Q1979.52 228.932 1979.52 222.567 Q1979.52 216.178 1982.67 212.567 Q1985.84 208.955 1991.42 208.955 Z\" fill=\"#000000\" fill-rule=\"nonzero\" fill-opacity=\"1\" /><path clip-path=\"url(#clip800)\" d=\"M2027.44 222.242 Q2027.44 217.613 2025.52 215.067 Q2023.62 212.52 2020.17 212.52 Q2016.74 212.52 2014.82 215.067 Q2012.93 217.613 2012.93 222.242 Q2012.93 226.849 2014.82 229.395 Q2016.74 231.941 2020.17 231.941 Q2023.62 231.941 2025.52 229.395 Q2027.44 226.849 2027.44 222.242 M2031.7 232.289 Q2031.7 238.909 2028.76 242.127 Q2025.82 245.367 2019.75 245.367 Q2017.51 245.367 2015.52 245.02 Q2013.53 244.696 2011.65 244.002 L2011.65 239.858 Q2013.53 240.877 2015.36 241.363 Q2017.18 241.849 2019.08 241.849 Q2023.27 241.849 2025.36 239.65 Q2027.44 237.474 2027.44 233.053 L2027.44 230.946 Q2026.12 233.238 2024.06 234.372 Q2022 235.506 2019.13 235.506 Q2014.36 235.506 2011.44 231.872 Q2008.53 228.238 2008.53 222.242 Q2008.53 216.224 2011.44 212.59 Q2014.36 208.955 2019.13 208.955 Q2022 208.955 2024.06 210.09 Q2026.12 211.224 2027.44 213.516 L2027.44 209.58 L2031.7 209.58 L2031.7 232.289 Z\" fill=\"#000000\" fill-rule=\"nonzero\" fill-opacity=\"1\" /><path clip-path=\"url(#clip800)\" d=\"M2055.54 199.488 L2059.8 199.488 L2059.8 235.506 L2055.54 235.506 L2055.54 199.488 Z\" fill=\"#000000\" fill-rule=\"nonzero\" fill-opacity=\"1\" /><path clip-path=\"url(#clip800)\" d=\"M2078.76 212.567 Q2075.33 212.567 2073.34 215.252 Q2071.35 217.914 2071.35 222.567 Q2071.35 227.219 2073.32 229.904 Q2075.31 232.566 2078.76 232.566 Q2082.16 232.566 2084.15 229.881 Q2086.14 227.196 2086.14 222.567 Q2086.14 217.96 2084.15 215.275 Q2082.16 212.567 2078.76 212.567 M2078.76 208.955 Q2084.31 208.955 2087.48 212.567 Q2090.66 216.178 2090.66 222.567 Q2090.66 228.932 2087.48 232.566 Q2084.31 236.178 2078.76 236.178 Q2073.18 236.178 2070.01 232.566 Q2066.86 228.932 2066.86 222.567 Q2066.86 216.178 2070.01 212.567 Q2073.18 208.955 2078.76 208.955 Z\" fill=\"#000000\" fill-rule=\"nonzero\" fill-opacity=\"1\" /><path clip-path=\"url(#clip800)\" d=\"M2114.78 222.242 Q2114.78 217.613 2112.86 215.067 Q2110.96 212.52 2107.51 212.52 Q2104.08 212.52 2102.16 215.067 Q2100.26 217.613 2100.26 222.242 Q2100.26 226.849 2102.16 229.395 Q2104.08 231.941 2107.51 231.941 Q2110.96 231.941 2112.86 229.395 Q2114.78 226.849 2114.78 222.242 M2119.04 232.289 Q2119.04 238.909 2116.1 242.127 Q2113.16 245.367 2107.09 245.367 Q2104.85 245.367 2102.86 245.02 Q2100.86 244.696 2098.99 244.002 L2098.99 239.858 Q2100.86 240.877 2102.69 241.363 Q2104.52 241.849 2106.42 241.849 Q2110.61 241.849 2112.69 239.65 Q2114.78 237.474 2114.78 233.053 L2114.78 230.946 Q2113.46 233.238 2111.4 234.372 Q2109.34 235.506 2106.47 235.506 Q2101.7 235.506 2098.78 231.872 Q2095.86 228.238 2095.86 222.242 Q2095.86 216.224 2098.78 212.59 Q2101.7 208.955 2106.47 208.955 Q2109.34 208.955 2111.4 210.09 Q2113.46 211.224 2114.78 213.516 L2114.78 209.58 L2119.04 209.58 L2119.04 232.289 Z\" fill=\"#000000\" fill-rule=\"nonzero\" fill-opacity=\"1\" /><path clip-path=\"url(#clip800)\" d=\"M2159.41 210.344 L2159.41 214.372 Q2157.6 213.446 2155.66 212.983 Q2153.71 212.52 2151.63 212.52 Q2148.46 212.52 2146.86 213.493 Q2145.29 214.465 2145.29 216.409 Q2145.29 217.891 2146.42 218.747 Q2147.55 219.58 2150.98 220.344 L2152.44 220.668 Q2156.98 221.641 2158.87 223.423 Q2160.79 225.182 2160.79 228.354 Q2160.79 231.965 2157.92 234.071 Q2155.08 236.178 2150.08 236.178 Q2147.99 236.178 2145.73 235.761 Q2143.48 235.367 2140.98 234.557 L2140.98 230.159 Q2143.34 231.386 2145.63 232.011 Q2147.92 232.613 2150.17 232.613 Q2153.18 232.613 2154.8 231.594 Q2156.42 230.553 2156.42 228.678 Q2156.42 226.942 2155.24 226.016 Q2154.08 225.09 2150.12 224.233 L2148.64 223.886 Q2144.68 223.053 2142.92 221.34 Q2141.17 219.604 2141.17 216.594 Q2141.17 212.937 2143.76 210.946 Q2146.35 208.955 2151.12 208.955 Q2153.48 208.955 2155.56 209.303 Q2157.65 209.65 2159.41 210.344 Z\" fill=\"#000000\" fill-rule=\"nonzero\" fill-opacity=\"1\" /><path clip-path=\"url(#clip800)\" d=\"M2186.23 210.576 L2186.23 214.557 Q2184.43 213.562 2182.6 213.076 Q2180.79 212.567 2178.94 212.567 Q2174.8 212.567 2172.51 215.205 Q2170.22 217.821 2170.22 222.567 Q2170.22 227.312 2172.51 229.951 Q2174.8 232.566 2178.94 232.566 Q2180.79 232.566 2182.6 232.08 Q2184.43 231.571 2186.23 230.576 L2186.23 234.511 Q2184.45 235.344 2182.53 235.761 Q2180.63 236.178 2178.48 236.178 Q2172.62 236.178 2169.17 232.497 Q2165.73 228.816 2165.73 222.567 Q2165.73 216.224 2169.2 212.59 Q2172.69 208.955 2178.76 208.955 Q2180.73 208.955 2182.6 209.372 Q2184.48 209.766 2186.23 210.576 Z\" fill=\"#000000\" fill-rule=\"nonzero\" fill-opacity=\"1\" /><path clip-path=\"url(#clip800)\" d=\"M2205.42 222.474 Q2200.26 222.474 2198.27 223.654 Q2196.28 224.835 2196.28 227.682 Q2196.28 229.951 2197.76 231.293 Q2199.27 232.613 2201.84 232.613 Q2205.38 232.613 2207.51 230.113 Q2209.66 227.59 2209.66 223.423 L2209.66 222.474 L2205.42 222.474 M2213.92 220.715 L2213.92 235.506 L2209.66 235.506 L2209.66 231.571 Q2208.2 233.932 2206.03 235.066 Q2203.85 236.178 2200.7 236.178 Q2196.72 236.178 2194.36 233.955 Q2192.02 231.71 2192.02 227.96 Q2192.02 223.585 2194.94 221.363 Q2197.88 219.141 2203.69 219.141 L2209.66 219.141 L2209.66 218.724 Q2209.66 215.784 2207.72 214.187 Q2205.79 212.567 2202.3 212.567 Q2200.08 212.567 2197.97 213.099 Q2195.86 213.631 2193.92 214.696 L2193.92 210.761 Q2196.26 209.858 2198.46 209.418 Q2200.66 208.955 2202.74 208.955 Q2208.36 208.955 2211.14 211.872 Q2213.92 214.789 2213.92 220.715 Z\" fill=\"#000000\" fill-rule=\"nonzero\" fill-opacity=\"1\" /><path clip-path=\"url(#clip800)\" d=\"M2222.69 199.488 L2226.95 199.488 L2226.95 235.506 L2222.69 235.506 L2222.69 199.488 Z\" fill=\"#000000\" fill-rule=\"nonzero\" fill-opacity=\"1\" /><path clip-path=\"url(#clip800)\" d=\"M2258.04 221.479 L2258.04 223.562 L2238.46 223.562 Q2238.73 227.96 2241.1 230.275 Q2243.48 232.566 2247.72 232.566 Q2250.17 232.566 2252.46 231.965 Q2254.78 231.363 2257.04 230.159 L2257.04 234.187 Q2254.75 235.159 2252.35 235.668 Q2249.94 236.178 2247.46 236.178 Q2241.26 236.178 2237.62 232.566 Q2234.01 228.955 2234.01 222.798 Q2234.01 216.432 2237.44 212.705 Q2240.89 208.955 2246.72 208.955 Q2251.95 208.955 2254.98 212.335 Q2258.04 215.692 2258.04 221.479 M2253.78 220.229 Q2253.73 216.733 2251.81 214.65 Q2249.91 212.567 2246.77 212.567 Q2243.2 212.567 2241.05 214.58 Q2238.92 216.594 2238.6 220.252 L2253.78 220.229 Z\" fill=\"#000000\" fill-rule=\"nonzero\" fill-opacity=\"1\" /></svg>\n"
     },
     "execution_count": 74,
     "metadata": {},
     "output_type": "execute_result"
    }
   ],
   "source": [
    "degree_list_sorted = sort(degree_list, rev=true)\n",
    "binn = 10.0 .^ (0:0.05:5)\n",
    "histogram(degree_list_sorted, bins=binn, xscale=:log10, yscale=:log10, xlim=extrema(binn),title=\"Degree Distribution of Wiki_oc\", label= \"log log scale\", xlabel = \"Degrees\", ylabel = \"Frequency\" )\n",
    "# histogram(degree_list_sorted[1:400]) # removing the highest degree vertex [2:14229]\n",
    "# histogram(degree_list_sorted, title=\"Bar\")\n",
    "# histogram(degree_list_sorted[200:1000], title=\"Middle half of sorted degrees [200:1000]\", label= \"[200:1000]\", xlabel = \"Degrees\", ylabel = \"Frequency\")\n",
    "\n",
    "# stephist(degree_list_sorted, title=\"Step\")\n",
    "\n",
    "# title!(\"Normalized 2D Histogram\")\n",
    "# # xlabel!(\"x\")\n",
    "# ylabel!(\"y\")"
   ]
  },
  {
   "cell_type": "code",
   "execution_count": 155,
   "id": "cb0fc4bd",
   "metadata": {},
   "outputs": [
    {
     "name": "stdout",
     "output_type": "stream",
     "text": [
      "no of source: 11947\t source degree threshold:1366\n",
      "sink_degree: 1364\n",
      "1364\n",
      "1364\n",
      "1364\n"
     ]
    }
   ],
   "source": [
    "#hit and trial \n",
    "# middle = UInt(ceil(96201/8))\n",
    "# padding = 100\n",
    "# for (index, i) in enumerate(degree_list_sorted[middle-padding:middle+padding])\n",
    "#     print(index , \":\",  i, \"\\n\")\n",
    "\n",
    "# end\n",
    "\n",
    "sink_index_in_above_loop = 23\n",
    "\n",
    "sink_index = middle - padding + sink_index_in_above_loop\n",
    "print(\"no of source: \", sink_index-2, \"\\t source degree threshold:\" ,degree_list_sorted[sink_index-2], \"\\n\") #set sink_index-2 as no of sources (no of source, source degree threshold)\n",
    "print(\"sink_degree: \",degree_list_sorted[sink_index-1], \"\\n\") \n",
    "print(degree_list_sorted[sink_index], \"\\n\")\n",
    "print(degree_list_sorted[sink_index+1], \"\\n\")\n",
    "print(degree_list_sorted[sink_index+2], \"\\n\")\n",
    "\n",
    "\n"
   ]
  },
  {
   "cell_type": "code",
   "execution_count": 156,
   "id": "b974e4af",
   "metadata": {},
   "outputs": [
    {
     "data": {
      "text/plain": [
       "1364"
      ]
     },
     "execution_count": 156,
     "metadata": {},
     "output_type": "execute_result"
    }
   ],
   "source": [
    "\n",
    "# 6.7\n",
    "source_degree_threshold = 1366\n",
    "no_of_sources = 11947\n",
    "sink_degree = 1364"
   ]
  },
  {
   "cell_type": "code",
   "execution_count": 157,
   "id": "d7e25640",
   "metadata": {},
   "outputs": [],
   "source": [
    "b = Vector{Int64}()\n",
    "is_sink_node_set = false\n",
    "\n",
    "    \n",
    "for i in 1:n\n",
    "    if ((degree_list[i] == sink_degree) & (!is_sink_node_set))\n",
    "        append!(b, -no_of_sources )\n",
    "        is_sink_node_set = true\n",
    "    elseif (degree_list[i]<source_degree_threshold)\n",
    "        append!(b, 0)\n",
    "    else\n",
    "        append!(b, 1)\n",
    "    end\n",
    "    \n",
    "end"
   ]
  },
  {
   "cell_type": "code",
   "execution_count": 145,
   "id": "f66a49e3",
   "metadata": {},
   "outputs": [
    {
     "name": "stdout",
     "output_type": "stream",
     "text": [
      "24051"
     ]
    },
    {
     "data": {
      "text/plain": [
       "0.2500389808837746"
      ]
     },
     "execution_count": 145,
     "metadata": {},
     "output_type": "execute_result"
    }
   ],
   "source": [
    "# Much simpler b creation for sink with max degree\n",
    "b = Vector{Int64}()\n",
    "\n",
    "frac_of_sources = 0.25\n",
    "no_of_sources = UInt(ceil(96201*frac_of_sources))\n",
    "print.(no_of_sources)\n",
    "\n",
    "degree_theshold = degree_list_sorted[no_of_sources]\n",
    "\n",
    "for i in 1:n\n",
    "    if (degree_list[i] < degree_theshold)\n",
    "        append!(b, 0)\n",
    "    else\n",
    "        append!(b, 1)\n",
    "    end\n",
    "    \n",
    "end\n",
    "\n",
    "# set the sink as max_degree_vertex\n",
    "sink_b = -sum(b)+1\n",
    "b[max_degree_index] = sink_b\n",
    "actual_frac_of_sources = -sink_b/96201\n"
   ]
  },
  {
   "cell_type": "code",
   "execution_count": 158,
   "id": "f4ab7d10",
   "metadata": {},
   "outputs": [
    {
     "data": {
      "text/plain": [
       "0"
      ]
     },
     "execution_count": 158,
     "metadata": {},
     "output_type": "execute_result"
    }
   ],
   "source": [
    "sum(b) #should be zero"
   ]
  },
  {
   "cell_type": "code",
   "execution_count": 159,
   "id": "4511b9ea",
   "metadata": {},
   "outputs": [
    {
     "data": {
      "text/plain": [
       "96201-element Vector{Int64}:\n",
       " -11947\n",
       "      0\n",
       "      0\n",
       "      0\n",
       "      0\n",
       "      0\n",
       "      0\n",
       "      0\n",
       "      0\n",
       "      0\n",
       "      0\n",
       "      0\n",
       "      0\n",
       "      ⋮\n",
       "      1\n",
       "      1\n",
       "      1\n",
       "      1\n",
       "      1\n",
       "      1\n",
       "      1\n",
       "      1\n",
       "      1\n",
       "      1\n",
       "      1\n",
       "      1"
      ]
     },
     "execution_count": 159,
     "metadata": {},
     "output_type": "execute_result"
    }
   ],
   "source": [
    "sort(b)"
   ]
  },
  {
   "cell_type": "code",
   "execution_count": 41,
   "id": "98b4aade",
   "metadata": {},
   "outputs": [],
   "source": [
    "#beware run only once :O\n",
    "# b = b ./ no_of_sources"
   ]
  },
  {
   "cell_type": "code",
   "execution_count": 160,
   "id": "2cd86911",
   "metadata": {},
   "outputs": [
    {
     "name": "stdout",
     "output_type": "stream",
     "text": [
      "setting sink nodes as :5919 which has degree 1364"
     ]
    }
   ],
   "source": [
    "# Now get unnormalized b after verification\n",
    "b = Vector{Int64}()\n",
    "\n",
    "is_sink_node_set = false\n",
    "\n",
    "    \n",
    "for i in 1:n\n",
    "    if ((degree_list[i] == sink_degree) & (!is_sink_node_set))\n",
    "        append!(b, -no_of_sources )\n",
    "        print(\"setting sink nodes as :\", i, \" which has degree \", degree_list[i])\n",
    "        is_sink_node_set = true\n",
    "    elseif (degree_list[i]<source_degree_threshold)\n",
    "        append!(b, 0)\n",
    "    else\n",
    "        append!(b, 1)\n",
    "    end\n",
    "    \n",
    "end"
   ]
  },
  {
   "cell_type": "code",
   "execution_count": 161,
   "id": "dbb3359f",
   "metadata": {},
   "outputs": [],
   "source": [
    "# save b for the csr representation (chnage the name)\n",
    "\n",
    "FileIOStream =  open(\"/home/sumaiya/Desktop/Datasets/wiki_oc/bug_12_b.txt\",\"a\")\n",
    "writedlm(FileIOStream, transpose(b), \"    \")\n",
    "close(FileIOStream)\n"
   ]
  },
  {
   "cell_type": "code",
   "execution_count": null,
   "id": "3cbf14cf",
   "metadata": {},
   "outputs": [],
   "source": []
  }
 ],
 "metadata": {
  "kernelspec": {
   "display_name": "Julia 1.6.7",
   "language": "julia",
   "name": "julia-1.6"
  },
  "language_info": {
   "file_extension": ".jl",
   "mimetype": "application/julia",
   "name": "julia",
   "version": "1.6.7"
  }
 },
 "nbformat": 4,
 "nbformat_minor": 5
}
